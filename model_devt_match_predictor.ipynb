{
 "cells": [
  {
   "cell_type": "markdown",
   "id": "e880ad2f-9e96-469a-a50e-f4bce1df67c7",
   "metadata": {},
   "source": [
    "__<h1>XGBOOST, ADA_BOOST & RANDOM FOREST</h1>__"
   ]
  },
  {
   "cell_type": "markdown",
   "id": "cb81a4ce-bca9-49d1-b5ae-efa19da7ebf5",
   "metadata": {},
   "source": [
    "___KEY NOTES IN VERSION 3___\n",
    "- in this notebook, we aim to determine if the home team wins, 1, or doesn't 0. (loss or draw)\n",
    "- I used the random forest and adaptive boosting models using their default parameters\n",
    "- performance evaluated with k-fold cv\n",
    "- outliers removed"
   ]
  },
  {
   "cell_type": "code",
   "execution_count": 1,
   "id": "f103e0f5-eaa7-494e-8530-7a20c668330d",
   "metadata": {},
   "outputs": [],
   "source": [
    "import pandas as pd, numpy as np, seaborn as sns, glob, time, os, matplotlib.pyplot as plt\n",
    "from tqdm import tqdm\n",
    "import warnings\n",
    "warnings.filterwarnings('ignore')\n",
    "np.random.seed(0)"
   ]
  },
  {
   "cell_type": "code",
   "execution_count": 2,
   "id": "399d703f-d449-4e03-b149-b3322279d713",
   "metadata": {},
   "outputs": [],
   "source": [
    "os.chdir('/Users/ERIA/Desktop/MATCH_DATA/')"
   ]
  },
  {
   "cell_type": "markdown",
   "id": "abbda379-c8c0-43e2-b4db-b55add3538b8",
   "metadata": {},
   "source": [
    "The cell below shows how the glob module is used to gather file names of the same type into a list. In this case, I collected all csv files in the /Users/ERIA/Desktop/MATCH_DATA/ directory"
   ]
  },
  {
   "cell_type": "code",
   "execution_count": 3,
   "id": "1db02dfb-d9d5-4356-83ce-a310be0be04d",
   "metadata": {},
   "outputs": [
    {
     "data": {
      "text/plain": [
       "14"
      ]
     },
     "execution_count": 3,
     "metadata": {},
     "output_type": "execute_result"
    }
   ],
   "source": [
    "csv_files=glob.glob('*.csv')\n",
    "len(csv_files)"
   ]
  },
  {
   "cell_type": "markdown",
   "id": "46515772-92d8-48d9-bcb3-59ac3baf9a27",
   "metadata": {},
   "source": [
    "all the files are then concatanated together along the rows (axis=0) to form one collection df"
   ]
  },
  {
   "cell_type": "code",
   "execution_count": 4,
   "id": "2436f71f-3177-4b76-b129-aa3d64ed841b",
   "metadata": {
    "tags": []
   },
   "outputs": [
    {
     "name": "stderr",
     "output_type": "stream",
     "text": [
      "100%|██████████| 14/14 [00:00<00:00, 122.01it/s]\n"
     ]
    },
    {
     "data": {
      "text/plain": [
       "(6468, 6)"
      ]
     },
     "execution_count": 4,
     "metadata": {},
     "output_type": "execute_result"
    }
   ],
   "source": [
    "count=0\n",
    "for file in tqdm(csv_files):\n",
    "    \n",
    "    if count ==0:\n",
    "        df=pd.read_csv(file)\n",
    "        count+=1\n",
    "        continue\n",
    "    else:\n",
    "        file=pd.read_csv(file)\n",
    "        df=pd.concat([df,file], axis=0)\n",
    "        count+=1\n",
    "df.shape"
   ]
  },
  {
   "cell_type": "markdown",
   "id": "4ab6148b-f2b7-4442-abf4-ef303ed56388",
   "metadata": {},
   "source": [
    "__<h2>DATA CLEANING</h2>__"
   ]
  },
  {
   "cell_type": "code",
   "execution_count": 5,
   "id": "33dbd805-335b-459a-a9e6-43da31709d95",
   "metadata": {},
   "outputs": [
    {
     "data": {
      "text/html": [
       "<div>\n",
       "<style scoped>\n",
       "    .dataframe tbody tr th:only-of-type {\n",
       "        vertical-align: middle;\n",
       "    }\n",
       "\n",
       "    .dataframe tbody tr th {\n",
       "        vertical-align: top;\n",
       "    }\n",
       "\n",
       "    .dataframe thead th {\n",
       "        text-align: right;\n",
       "    }\n",
       "</style>\n",
       "<table border=\"1\" class=\"dataframe\">\n",
       "  <thead>\n",
       "    <tr style=\"text-align: right;\">\n",
       "      <th></th>\n",
       "      <th>Unnamed: 0</th>\n",
       "      <th>home</th>\n",
       "      <th>draw</th>\n",
       "      <th>away</th>\n",
       "      <th>h</th>\n",
       "      <th>a</th>\n",
       "    </tr>\n",
       "  </thead>\n",
       "  <tbody>\n",
       "    <tr>\n",
       "      <th>0</th>\n",
       "      <td>0</td>\n",
       "      <td>3.92</td>\n",
       "      <td>3.94</td>\n",
       "      <td>1.91</td>\n",
       "      <td>0.0</td>\n",
       "      <td>1.0</td>\n",
       "    </tr>\n",
       "    <tr>\n",
       "      <th>1</th>\n",
       "      <td>1</td>\n",
       "      <td>2.17</td>\n",
       "      <td>3.58</td>\n",
       "      <td>3.60</td>\n",
       "      <td>1.0</td>\n",
       "      <td>1.0</td>\n",
       "    </tr>\n",
       "    <tr>\n",
       "      <th>2</th>\n",
       "      <td>2</td>\n",
       "      <td>1.85</td>\n",
       "      <td>3.94</td>\n",
       "      <td>4.52</td>\n",
       "      <td>1.0</td>\n",
       "      <td>0.0</td>\n",
       "    </tr>\n",
       "    <tr>\n",
       "      <th>3</th>\n",
       "      <td>3</td>\n",
       "      <td>1.43</td>\n",
       "      <td>5.25</td>\n",
       "      <td>8.00</td>\n",
       "      <td>2.0</td>\n",
       "      <td>1.0</td>\n",
       "    </tr>\n",
       "    <tr>\n",
       "      <th>4</th>\n",
       "      <td>4</td>\n",
       "      <td>1.16</td>\n",
       "      <td>9.40</td>\n",
       "      <td>19.00</td>\n",
       "      <td>9.0</td>\n",
       "      <td>0.0</td>\n",
       "    </tr>\n",
       "  </tbody>\n",
       "</table>\n",
       "</div>"
      ],
      "text/plain": [
       "   Unnamed: 0  home  draw   away    h    a\n",
       "0           0  3.92  3.94   1.91  0.0  1.0\n",
       "1           1  2.17  3.58   3.60  1.0  1.0\n",
       "2           2  1.85  3.94   4.52  1.0  0.0\n",
       "3           3  1.43  5.25   8.00  2.0  1.0\n",
       "4           4  1.16  9.40  19.00  9.0  0.0"
      ]
     },
     "execution_count": 5,
     "metadata": {},
     "output_type": "execute_result"
    }
   ],
   "source": [
    "df.head()"
   ]
  },
  {
   "cell_type": "code",
   "execution_count": 6,
   "id": "7e8324af-1c41-4a42-a9f6-1afbd71e98b4",
   "metadata": {},
   "outputs": [
    {
     "data": {
      "text/html": [
       "<div>\n",
       "<style scoped>\n",
       "    .dataframe tbody tr th:only-of-type {\n",
       "        vertical-align: middle;\n",
       "    }\n",
       "\n",
       "    .dataframe tbody tr th {\n",
       "        vertical-align: top;\n",
       "    }\n",
       "\n",
       "    .dataframe thead th {\n",
       "        text-align: right;\n",
       "    }\n",
       "</style>\n",
       "<table border=\"1\" class=\"dataframe\">\n",
       "  <thead>\n",
       "    <tr style=\"text-align: right;\">\n",
       "      <th></th>\n",
       "      <th>home</th>\n",
       "      <th>draw</th>\n",
       "      <th>away</th>\n",
       "      <th>h</th>\n",
       "      <th>a</th>\n",
       "    </tr>\n",
       "  </thead>\n",
       "  <tbody>\n",
       "    <tr>\n",
       "      <th>0</th>\n",
       "      <td>3.92</td>\n",
       "      <td>3.94</td>\n",
       "      <td>1.91</td>\n",
       "      <td>0.0</td>\n",
       "      <td>1.0</td>\n",
       "    </tr>\n",
       "    <tr>\n",
       "      <th>1</th>\n",
       "      <td>2.17</td>\n",
       "      <td>3.58</td>\n",
       "      <td>3.60</td>\n",
       "      <td>1.0</td>\n",
       "      <td>1.0</td>\n",
       "    </tr>\n",
       "    <tr>\n",
       "      <th>2</th>\n",
       "      <td>1.85</td>\n",
       "      <td>3.94</td>\n",
       "      <td>4.52</td>\n",
       "      <td>1.0</td>\n",
       "      <td>0.0</td>\n",
       "    </tr>\n",
       "    <tr>\n",
       "      <th>3</th>\n",
       "      <td>1.43</td>\n",
       "      <td>5.25</td>\n",
       "      <td>8.00</td>\n",
       "      <td>2.0</td>\n",
       "      <td>1.0</td>\n",
       "    </tr>\n",
       "    <tr>\n",
       "      <th>4</th>\n",
       "      <td>1.16</td>\n",
       "      <td>9.40</td>\n",
       "      <td>19.00</td>\n",
       "      <td>9.0</td>\n",
       "      <td>0.0</td>\n",
       "    </tr>\n",
       "  </tbody>\n",
       "</table>\n",
       "</div>"
      ],
      "text/plain": [
       "   home  draw   away    h    a\n",
       "0  3.92  3.94   1.91  0.0  1.0\n",
       "1  2.17  3.58   3.60  1.0  1.0\n",
       "2  1.85  3.94   4.52  1.0  0.0\n",
       "3  1.43  5.25   8.00  2.0  1.0\n",
       "4  1.16  9.40  19.00  9.0  0.0"
      ]
     },
     "execution_count": 6,
     "metadata": {},
     "output_type": "execute_result"
    }
   ],
   "source": [
    "df.drop(columns=['Unnamed: 0'],inplace=True, axis=1)\n",
    "df.head()"
   ]
  },
  {
   "cell_type": "code",
   "execution_count": 7,
   "id": "9cf22300-b1c8-4278-b557-9a899e8d91ad",
   "metadata": {},
   "outputs": [
    {
     "data": {
      "text/plain": [
       "home      0\n",
       "draw      0\n",
       "away      0\n",
       "h       109\n",
       "a       109\n",
       "dtype: int64"
      ]
     },
     "execution_count": 7,
     "metadata": {},
     "output_type": "execute_result"
    }
   ],
   "source": [
    "df.isna().sum()"
   ]
  },
  {
   "cell_type": "code",
   "execution_count": 8,
   "id": "f97e717f-f18b-407a-b23a-08a53df3d86f",
   "metadata": {},
   "outputs": [
    {
     "data": {
      "text/plain": [
       "home    0\n",
       "draw    0\n",
       "away    0\n",
       "h       0\n",
       "a       0\n",
       "dtype: int64"
      ]
     },
     "execution_count": 8,
     "metadata": {},
     "output_type": "execute_result"
    }
   ],
   "source": [
    "df.dropna(inplace=True)\n",
    "df.isna().sum()"
   ]
  },
  {
   "cell_type": "code",
   "execution_count": 9,
   "id": "2a5a23dc-3a72-4e64-abbd-d2fd99402af7",
   "metadata": {},
   "outputs": [
    {
     "data": {
      "text/plain": [
       "home    object\n",
       "draw    object\n",
       "away    object\n",
       "h       object\n",
       "a       object\n",
       "dtype: object"
      ]
     },
     "execution_count": 9,
     "metadata": {},
     "output_type": "execute_result"
    }
   ],
   "source": [
    "df.dtypes"
   ]
  },
  {
   "cell_type": "markdown",
   "id": "f38c5619-b0b6-4bb0-b739-1ebf28abb28d",
   "metadata": {},
   "source": [
    "The data contains hyphens '-' for matches that didn't have odds by the time of collection. These records have to be dropped. I replace hyphens with nulls which I subsquently drop too as shown below "
   ]
  },
  {
   "cell_type": "code",
   "execution_count": 10,
   "id": "b74b9698-b6c9-426a-94c0-cb6f005cb788",
   "metadata": {},
   "outputs": [
    {
     "data": {
      "text/plain": [
       "home    1483\n",
       "draw    1564\n",
       "away    1566\n",
       "h         13\n",
       "a         13\n",
       "dtype: int64"
      ]
     },
     "execution_count": 10,
     "metadata": {},
     "output_type": "execute_result"
    }
   ],
   "source": [
    "df.replace(to_replace='-', value=np.nan, inplace=True)\n",
    "df.isna().sum()"
   ]
  },
  {
   "cell_type": "code",
   "execution_count": 11,
   "id": "939401c4-db43-4ef1-ad88-5c468ce15c59",
   "metadata": {},
   "outputs": [
    {
     "data": {
      "text/plain": [
       "home    0\n",
       "draw    0\n",
       "away    0\n",
       "h       0\n",
       "a       0\n",
       "dtype: int64"
      ]
     },
     "execution_count": 11,
     "metadata": {},
     "output_type": "execute_result"
    }
   ],
   "source": [
    "df.dropna(inplace=True)\n",
    "df.isna().sum()"
   ]
  },
  {
   "cell_type": "markdown",
   "id": "95459c38-6ce8-4b36-9bfe-3f15fff3d2e0",
   "metadata": {},
   "source": [
    "All features converted to float"
   ]
  },
  {
   "cell_type": "code",
   "execution_count": 12,
   "id": "e1dad6b6-22bd-4a4b-ae0b-03312f05cdca",
   "metadata": {},
   "outputs": [
    {
     "data": {
      "text/plain": [
       "home    float64\n",
       "draw    float64\n",
       "away    float64\n",
       "h       float64\n",
       "a       float64\n",
       "dtype: object"
      ]
     },
     "execution_count": 12,
     "metadata": {},
     "output_type": "execute_result"
    }
   ],
   "source": [
    "df=df.astype('float')\n",
    "df.dtypes"
   ]
  },
  {
   "cell_type": "code",
   "execution_count": 13,
   "id": "2e3d152f-e2a5-4763-bbf8-2f36360b1660",
   "metadata": {},
   "outputs": [
    {
     "data": {
      "text/html": [
       "<div>\n",
       "<style scoped>\n",
       "    .dataframe tbody tr th:only-of-type {\n",
       "        vertical-align: middle;\n",
       "    }\n",
       "\n",
       "    .dataframe tbody tr th {\n",
       "        vertical-align: top;\n",
       "    }\n",
       "\n",
       "    .dataframe thead th {\n",
       "        text-align: right;\n",
       "    }\n",
       "</style>\n",
       "<table border=\"1\" class=\"dataframe\">\n",
       "  <thead>\n",
       "    <tr style=\"text-align: right;\">\n",
       "      <th></th>\n",
       "      <th>home</th>\n",
       "      <th>draw</th>\n",
       "      <th>away</th>\n",
       "      <th>h</th>\n",
       "      <th>a</th>\n",
       "    </tr>\n",
       "  </thead>\n",
       "  <tbody>\n",
       "    <tr>\n",
       "      <th>0</th>\n",
       "      <td>3.92</td>\n",
       "      <td>3.94</td>\n",
       "      <td>1.91</td>\n",
       "      <td>0.0</td>\n",
       "      <td>1.0</td>\n",
       "    </tr>\n",
       "    <tr>\n",
       "      <th>1</th>\n",
       "      <td>2.17</td>\n",
       "      <td>3.58</td>\n",
       "      <td>3.60</td>\n",
       "      <td>1.0</td>\n",
       "      <td>1.0</td>\n",
       "    </tr>\n",
       "    <tr>\n",
       "      <th>2</th>\n",
       "      <td>1.85</td>\n",
       "      <td>3.94</td>\n",
       "      <td>4.52</td>\n",
       "      <td>1.0</td>\n",
       "      <td>0.0</td>\n",
       "    </tr>\n",
       "    <tr>\n",
       "      <th>3</th>\n",
       "      <td>1.43</td>\n",
       "      <td>5.25</td>\n",
       "      <td>8.00</td>\n",
       "      <td>2.0</td>\n",
       "      <td>1.0</td>\n",
       "    </tr>\n",
       "    <tr>\n",
       "      <th>4</th>\n",
       "      <td>1.16</td>\n",
       "      <td>9.40</td>\n",
       "      <td>19.00</td>\n",
       "      <td>9.0</td>\n",
       "      <td>0.0</td>\n",
       "    </tr>\n",
       "  </tbody>\n",
       "</table>\n",
       "</div>"
      ],
      "text/plain": [
       "   home  draw   away    h    a\n",
       "0  3.92  3.94   1.91  0.0  1.0\n",
       "1  2.17  3.58   3.60  1.0  1.0\n",
       "2  1.85  3.94   4.52  1.0  0.0\n",
       "3  1.43  5.25   8.00  2.0  1.0\n",
       "4  1.16  9.40  19.00  9.0  0.0"
      ]
     },
     "execution_count": 13,
     "metadata": {},
     "output_type": "execute_result"
    }
   ],
   "source": [
    "df.head()"
   ]
  },
  {
   "cell_type": "code",
   "execution_count": 14,
   "id": "2b80c28b-5cf0-427f-bd79-3af51f55e178",
   "metadata": {},
   "outputs": [
    {
     "name": "stdout",
     "output_type": "stream",
     "text": [
      "<class 'pandas.core.frame.DataFrame'>\n",
      "Int64Index: 4781 entries, 0 to 278\n",
      "Data columns (total 5 columns):\n",
      " #   Column  Non-Null Count  Dtype  \n",
      "---  ------  --------------  -----  \n",
      " 0   home    4781 non-null   float64\n",
      " 1   draw    4781 non-null   float64\n",
      " 2   away    4781 non-null   float64\n",
      " 3   h       4781 non-null   float64\n",
      " 4   a       4781 non-null   float64\n",
      "dtypes: float64(5)\n",
      "memory usage: 224.1 KB\n"
     ]
    }
   ],
   "source": [
    "df.info()"
   ]
  },
  {
   "cell_type": "markdown",
   "id": "46e6096c-181f-4554-9a4e-ec648fed452c",
   "metadata": {},
   "source": [
    "__<h3>creating the target variable, result</h3>__\n",
    "for the home team win, we classify that as 1. A draw or win for the away team, 0"
   ]
  },
  {
   "cell_type": "code",
   "execution_count": 15,
   "id": "c99300eb-777b-4301-b0c9-dd0a107b38bf",
   "metadata": {},
   "outputs": [
    {
     "data": {
      "text/html": [
       "<div>\n",
       "<style scoped>\n",
       "    .dataframe tbody tr th:only-of-type {\n",
       "        vertical-align: middle;\n",
       "    }\n",
       "\n",
       "    .dataframe tbody tr th {\n",
       "        vertical-align: top;\n",
       "    }\n",
       "\n",
       "    .dataframe thead th {\n",
       "        text-align: right;\n",
       "    }\n",
       "</style>\n",
       "<table border=\"1\" class=\"dataframe\">\n",
       "  <thead>\n",
       "    <tr style=\"text-align: right;\">\n",
       "      <th></th>\n",
       "      <th>home</th>\n",
       "      <th>draw</th>\n",
       "      <th>away</th>\n",
       "      <th>h</th>\n",
       "      <th>a</th>\n",
       "      <th>result</th>\n",
       "    </tr>\n",
       "  </thead>\n",
       "  <tbody>\n",
       "    <tr>\n",
       "      <th>0</th>\n",
       "      <td>3.92</td>\n",
       "      <td>3.94</td>\n",
       "      <td>1.91</td>\n",
       "      <td>0.0</td>\n",
       "      <td>1.0</td>\n",
       "      <td>0</td>\n",
       "    </tr>\n",
       "    <tr>\n",
       "      <th>1</th>\n",
       "      <td>2.17</td>\n",
       "      <td>3.58</td>\n",
       "      <td>3.60</td>\n",
       "      <td>1.0</td>\n",
       "      <td>1.0</td>\n",
       "      <td>0</td>\n",
       "    </tr>\n",
       "    <tr>\n",
       "      <th>2</th>\n",
       "      <td>1.85</td>\n",
       "      <td>3.94</td>\n",
       "      <td>4.52</td>\n",
       "      <td>1.0</td>\n",
       "      <td>0.0</td>\n",
       "      <td>1</td>\n",
       "    </tr>\n",
       "    <tr>\n",
       "      <th>3</th>\n",
       "      <td>1.43</td>\n",
       "      <td>5.25</td>\n",
       "      <td>8.00</td>\n",
       "      <td>2.0</td>\n",
       "      <td>1.0</td>\n",
       "      <td>1</td>\n",
       "    </tr>\n",
       "    <tr>\n",
       "      <th>4</th>\n",
       "      <td>1.16</td>\n",
       "      <td>9.40</td>\n",
       "      <td>19.00</td>\n",
       "      <td>9.0</td>\n",
       "      <td>0.0</td>\n",
       "      <td>1</td>\n",
       "    </tr>\n",
       "  </tbody>\n",
       "</table>\n",
       "</div>"
      ],
      "text/plain": [
       "   home  draw   away    h    a  result\n",
       "0  3.92  3.94   1.91  0.0  1.0       0\n",
       "1  2.17  3.58   3.60  1.0  1.0       0\n",
       "2  1.85  3.94   4.52  1.0  0.0       1\n",
       "3  1.43  5.25   8.00  2.0  1.0       1\n",
       "4  1.16  9.40  19.00  9.0  0.0       1"
      ]
     },
     "execution_count": 15,
     "metadata": {},
     "output_type": "execute_result"
    }
   ],
   "source": [
    "#aiming\n",
    "df['result']=np.where(df['h']==df['a'],0, np.where(df.h<df.a,0,1) )\n",
    "\n",
    "df.head()"
   ]
  },
  {
   "cell_type": "code",
   "execution_count": 16,
   "id": "a0fe29e1-82d7-476e-a811-be31d725fab8",
   "metadata": {},
   "outputs": [
    {
     "data": {
      "text/plain": [
       "0    2650\n",
       "1    2131\n",
       "Name: result, dtype: int64"
      ]
     },
     "execution_count": 16,
     "metadata": {},
     "output_type": "execute_result"
    }
   ],
   "source": [
    "df.result.value_counts()"
   ]
  },
  {
   "cell_type": "code",
   "execution_count": 17,
   "id": "204787cb-4ed4-41a7-aa06-5bd9823c0359",
   "metadata": {},
   "outputs": [
    {
     "data": {
      "text/plain": [
       "(4781, 6)"
      ]
     },
     "execution_count": 17,
     "metadata": {},
     "output_type": "execute_result"
    }
   ],
   "source": [
    "df.shape"
   ]
  },
  {
   "cell_type": "code",
   "execution_count": 18,
   "id": "aa392b14-7ac9-41f9-8d45-f70ad87dde96",
   "metadata": {},
   "outputs": [
    {
     "data": {
      "text/html": [
       "<div>\n",
       "<style scoped>\n",
       "    .dataframe tbody tr th:only-of-type {\n",
       "        vertical-align: middle;\n",
       "    }\n",
       "\n",
       "    .dataframe tbody tr th {\n",
       "        vertical-align: top;\n",
       "    }\n",
       "\n",
       "    .dataframe thead th {\n",
       "        text-align: right;\n",
       "    }\n",
       "</style>\n",
       "<table border=\"1\" class=\"dataframe\">\n",
       "  <thead>\n",
       "    <tr style=\"text-align: right;\">\n",
       "      <th></th>\n",
       "      <th>home</th>\n",
       "      <th>draw</th>\n",
       "      <th>away</th>\n",
       "      <th>result</th>\n",
       "    </tr>\n",
       "  </thead>\n",
       "  <tbody>\n",
       "    <tr>\n",
       "      <th>0</th>\n",
       "      <td>3.92</td>\n",
       "      <td>3.94</td>\n",
       "      <td>1.91</td>\n",
       "      <td>0</td>\n",
       "    </tr>\n",
       "    <tr>\n",
       "      <th>1</th>\n",
       "      <td>2.17</td>\n",
       "      <td>3.58</td>\n",
       "      <td>3.60</td>\n",
       "      <td>0</td>\n",
       "    </tr>\n",
       "    <tr>\n",
       "      <th>2</th>\n",
       "      <td>1.85</td>\n",
       "      <td>3.94</td>\n",
       "      <td>4.52</td>\n",
       "      <td>1</td>\n",
       "    </tr>\n",
       "    <tr>\n",
       "      <th>3</th>\n",
       "      <td>1.43</td>\n",
       "      <td>5.25</td>\n",
       "      <td>8.00</td>\n",
       "      <td>1</td>\n",
       "    </tr>\n",
       "    <tr>\n",
       "      <th>4</th>\n",
       "      <td>1.16</td>\n",
       "      <td>9.40</td>\n",
       "      <td>19.00</td>\n",
       "      <td>1</td>\n",
       "    </tr>\n",
       "  </tbody>\n",
       "</table>\n",
       "</div>"
      ],
      "text/plain": [
       "   home  draw   away  result\n",
       "0  3.92  3.94   1.91       0\n",
       "1  2.17  3.58   3.60       0\n",
       "2  1.85  3.94   4.52       1\n",
       "3  1.43  5.25   8.00       1\n",
       "4  1.16  9.40  19.00       1"
      ]
     },
     "execution_count": 18,
     "metadata": {},
     "output_type": "execute_result"
    }
   ],
   "source": [
    "df.drop(columns=['h','a'], inplace=True)\n",
    "df.head()"
   ]
  },
  {
   "cell_type": "markdown",
   "id": "6fdd74c0-38aa-4601-8d18-48f83704ae47",
   "metadata": {},
   "source": [
    "__<h3>Dealing with Duplicates</h3>__"
   ]
  },
  {
   "cell_type": "code",
   "execution_count": 19,
   "id": "e2c3c0e9-0b54-4924-bf1f-a0aa44601e3f",
   "metadata": {},
   "outputs": [
    {
     "data": {
      "text/plain": [
       "(161, 4)"
      ]
     },
     "execution_count": 19,
     "metadata": {},
     "output_type": "execute_result"
    }
   ],
   "source": [
    "df[df.duplicated()==True].shape"
   ]
  },
  {
   "cell_type": "code",
   "execution_count": 20,
   "id": "c239813f-f26b-4ca2-8f42-8f3dc73fa1f6",
   "metadata": {},
   "outputs": [],
   "source": [
    "df.drop_duplicates(inplace=True)"
   ]
  },
  {
   "cell_type": "markdown",
   "id": "57ca6e9a-3b0b-46c1-96a0-1ea02f1e9d4c",
   "metadata": {},
   "source": [
    "__<h3>OUTLIER DETECTION & REMOVAL</h3>__"
   ]
  },
  {
   "cell_type": "code",
   "execution_count": 21,
   "id": "3d46acbf-7c31-479b-b449-510197ff21ce",
   "metadata": {},
   "outputs": [
    {
     "data": {
      "text/plain": [
       "<AxesSubplot:>"
      ]
     },
     "execution_count": 21,
     "metadata": {},
     "output_type": "execute_result"
    },
    {
     "data": {
      "image/png": "[encoded data removed]",
      "text/plain": [
       "<Figure size 640x480 with 1 Axes>"
      ]
     },
     "metadata": {},
     "output_type": "display_data"
    }
   ],
   "source": [
    "sns.boxplot(data=df)"
   ]
  },
  {
   "cell_type": "markdown",
   "id": "b813ce7c-6f23-4a55-8d61-11de4ce2cf64",
   "metadata": {},
   "source": [
    "__<h4>Removal of Outliers</h4>__"
   ]
  },
  {
   "cell_type": "code",
   "execution_count": 22,
   "id": "13f7fcb0-221c-4b53-afae-bed6e4a5a11b",
   "metadata": {},
   "outputs": [
    {
     "data": {
      "text/plain": [
       "<AxesSubplot:>"
      ]
     },
     "execution_count": 22,
     "metadata": {},
     "output_type": "execute_result"
    },
    {
     "data": {
      "image/png": "[encoded data removed]",
      "text/plain": [
       "<Figure size 640x480 with 1 Axes>"
      ]
     },
     "metadata": {},
     "output_type": "display_data"
    }
   ],
   "source": [
    "df.home=np.where(df.home>4.5,np.nan, df.home)\n",
    "df.draw=np.where(df.draw>5,np.nan, df.draw)\n",
    "df.away=np.where(df.away>7,np.nan, df.away)\n",
    "df2=df.dropna()\n",
    "df=df2\n",
    "sns.boxplot(data=df2)"
   ]
  },
  {
   "cell_type": "markdown",
   "id": "a844d2d5-d2af-47cc-8b6c-2c26eb9acf1e",
   "metadata": {},
   "source": [
    "<h2>MODEL DEVELOPMENT</h2>"
   ]
  },
  {
   "cell_type": "code",
   "execution_count": 23,
   "id": "228431e1-91d6-4080-a928-667998bd159d",
   "metadata": {},
   "outputs": [],
   "source": [
    "from sklearn.model_selection import train_test_split\n",
    "\n",
    "X=df.drop('result', axis=1)\n",
    "y=df['result']\n",
    "\n",
    "col_names=X.columns\n",
    "#standardization\n",
    "#X=MinMaxScaler().fit_transform(X)\n",
    "\n",
    "x_train, x_test, y_train, y_test=train_test_split(X,y,test_size=0.3,random_state=42)"
   ]
  },
  {
   "cell_type": "markdown",
   "id": "53f20e45-89a9-4e75-9315-b315738c5239",
   "metadata": {},
   "source": [
    "__<h2>RANDOM FOREST</h2>__"
   ]
  },
  {
   "cell_type": "code",
   "execution_count": 24,
   "id": "70c5e3e9-251f-4d59-af90-dc9ba7edebc0",
   "metadata": {},
   "outputs": [
    {
     "name": "stdout",
     "output_type": "stream",
     "text": [
      "0.5243342516069789\n",
      "              precision    recall  f1-score   support\n",
      "\n",
      "           0       0.57      0.63      0.60       607\n",
      "           1       0.46      0.39      0.42       482\n",
      "\n",
      "    accuracy                           0.52      1089\n",
      "   macro avg       0.51      0.51      0.51      1089\n",
      "weighted avg       0.52      0.52      0.52      1089\n",
      "\n"
     ]
    }
   ],
   "source": [
    "from sklearn.ensemble import RandomForestClassifier\n",
    "from sklearn.metrics import classification_report, accuracy_score\n",
    "model_rf=RandomForestClassifier(n_jobs=-1,random_state=0)\n",
    "\n",
    "model_rf.fit(x_train,y_train)\n",
    "\n",
    "y_pred=model_rf.predict(x_test)\n",
    "\n",
    "print(accuracy_score(y_test,y_pred))\n",
    "print(classification_report(y_test,y_pred))"
   ]
  },
  {
   "cell_type": "markdown",
   "id": "0cdd287f-4c2d-4159-8497-e535329619b7",
   "metadata": {},
   "source": [
    "__<h3>CROSS VALIDATION ON THE RANDOM MODEL</h3>__\n",
    "The purpose is to see how the model performs on unseen data"
   ]
  },
  {
   "cell_type": "code",
   "execution_count": 25,
   "id": "194a9add-34fc-4030-8209-b1e14a97ffe0",
   "metadata": {},
   "outputs": [
    {
     "data": {
      "text/plain": [
       "array([0.54117647, 0.47637795, 0.53149606, 0.45275591, 0.53543307,\n",
       "       0.54724409, 0.48818898, 0.51574803, 0.54724409, 0.48031496])"
      ]
     },
     "execution_count": 25,
     "metadata": {},
     "output_type": "execute_result"
    }
   ],
   "source": [
    "from sklearn.model_selection import cross_val_score\n",
    "accuracies=cross_val_score(estimator=model_rf, X=x_train, y=y_train, cv=10, n_jobs=-1)\n",
    "accuracies"
   ]
  },
  {
   "cell_type": "markdown",
   "id": "571d6eb1-ac38-4e93-ae26-7b4a47223e19",
   "metadata": {},
   "source": [
    "__<h2>ADA_BOOST</h2>__"
   ]
  },
  {
   "cell_type": "code",
   "execution_count": 26,
   "id": "918622fd-985c-4026-8e24-2bf08211e542",
   "metadata": {},
   "outputs": [
    {
     "name": "stdout",
     "output_type": "stream",
     "text": [
      "0.5068870523415978\n",
      "              precision    recall  f1-score   support\n",
      "\n",
      "           0       0.55      0.63      0.59       607\n",
      "           1       0.43      0.35      0.38       482\n",
      "\n",
      "    accuracy                           0.51      1089\n",
      "   macro avg       0.49      0.49      0.49      1089\n",
      "weighted avg       0.50      0.51      0.50      1089\n",
      "\n"
     ]
    }
   ],
   "source": [
    "from sklearn.ensemble import AdaBoostClassifier\n",
    "\n",
    "model_ada=AdaBoostClassifier(base_estimator=model_rf, random_state=0, n_estimators=100, \n",
    "                             learning_rate=0.5)\n",
    "\n",
    "model_ada.fit(x_train,y_train)\n",
    "y_pred=model_ada.predict(x_test)\n",
    "print(accuracy_score(y_test,y_pred))\n",
    "print(classification_report(y_test,y_pred))"
   ]
  },
  {
   "cell_type": "markdown",
   "id": "10018b00-f4d2-4db3-8d81-6cf1ec4fbb7b",
   "metadata": {},
   "source": [
    "__<h3>TESTING BOTH MODELS ON NEW DATA</h3>__"
   ]
  },
  {
   "cell_type": "code",
   "execution_count": 27,
   "id": "6403c2b1-61d8-4374-b469-0109726ff638",
   "metadata": {
    "scrolled": true,
    "tags": []
   },
   "outputs": [
    {
     "data": {
      "text/html": [
       "<div>\n",
       "<style scoped>\n",
       "    .dataframe tbody tr th:only-of-type {\n",
       "        vertical-align: middle;\n",
       "    }\n",
       "\n",
       "    .dataframe tbody tr th {\n",
       "        vertical-align: top;\n",
       "    }\n",
       "\n",
       "    .dataframe thead th {\n",
       "        text-align: right;\n",
       "    }\n",
       "</style>\n",
       "<table border=\"1\" class=\"dataframe\">\n",
       "  <thead>\n",
       "    <tr style=\"text-align: right;\">\n",
       "      <th></th>\n",
       "      <th>home</th>\n",
       "      <th>draw</th>\n",
       "      <th>away</th>\n",
       "      <th>result</th>\n",
       "    </tr>\n",
       "  </thead>\n",
       "  <tbody>\n",
       "    <tr>\n",
       "      <th>0</th>\n",
       "      <td>2.78</td>\n",
       "      <td>3.48</td>\n",
       "      <td>2.33</td>\n",
       "      <td>0</td>\n",
       "    </tr>\n",
       "    <tr>\n",
       "      <th>1</th>\n",
       "      <td>3.50</td>\n",
       "      <td>3.44</td>\n",
       "      <td>2.27</td>\n",
       "      <td>0</td>\n",
       "    </tr>\n",
       "    <tr>\n",
       "      <th>2</th>\n",
       "      <td>2.82</td>\n",
       "      <td>3.24</td>\n",
       "      <td>2.50</td>\n",
       "      <td>0</td>\n",
       "    </tr>\n",
       "    <tr>\n",
       "      <th>3</th>\n",
       "      <td>3.08</td>\n",
       "      <td>2.43</td>\n",
       "      <td>2.80</td>\n",
       "      <td>1</td>\n",
       "    </tr>\n",
       "    <tr>\n",
       "      <th>4</th>\n",
       "      <td>2.94</td>\n",
       "      <td>3.50</td>\n",
       "      <td>2.22</td>\n",
       "      <td>0</td>\n",
       "    </tr>\n",
       "    <tr>\n",
       "      <th>5</th>\n",
       "      <td>2.40</td>\n",
       "      <td>3.44</td>\n",
       "      <td>2.75</td>\n",
       "      <td>0</td>\n",
       "    </tr>\n",
       "    <tr>\n",
       "      <th>6</th>\n",
       "      <td>2.03</td>\n",
       "      <td>3.20</td>\n",
       "      <td>3.92</td>\n",
       "      <td>1</td>\n",
       "    </tr>\n",
       "    <tr>\n",
       "      <th>7</th>\n",
       "      <td>2.15</td>\n",
       "      <td>3.46</td>\n",
       "      <td>2.96</td>\n",
       "      <td>1</td>\n",
       "    </tr>\n",
       "    <tr>\n",
       "      <th>8</th>\n",
       "      <td>2.41</td>\n",
       "      <td>3.15</td>\n",
       "      <td>3.30</td>\n",
       "      <td>1</td>\n",
       "    </tr>\n",
       "    <tr>\n",
       "      <th>9</th>\n",
       "      <td>3.34</td>\n",
       "      <td>3.46</td>\n",
       "      <td>2.07</td>\n",
       "      <td>0</td>\n",
       "    </tr>\n",
       "    <tr>\n",
       "      <th>10</th>\n",
       "      <td>2.64</td>\n",
       "      <td>3.30</td>\n",
       "      <td>2.39</td>\n",
       "      <td>0</td>\n",
       "    </tr>\n",
       "    <tr>\n",
       "      <th>11</th>\n",
       "      <td>2.19</td>\n",
       "      <td>3.58</td>\n",
       "      <td>3.12</td>\n",
       "      <td>0</td>\n",
       "    </tr>\n",
       "    <tr>\n",
       "      <th>12</th>\n",
       "      <td>2.84</td>\n",
       "      <td>3.32</td>\n",
       "      <td>2.29</td>\n",
       "      <td>0</td>\n",
       "    </tr>\n",
       "    <tr>\n",
       "      <th>13</th>\n",
       "      <td>2.43</td>\n",
       "      <td>3.04</td>\n",
       "      <td>2.81</td>\n",
       "      <td>0</td>\n",
       "    </tr>\n",
       "    <tr>\n",
       "      <th>14</th>\n",
       "      <td>2.68</td>\n",
       "      <td>2.92</td>\n",
       "      <td>2.73</td>\n",
       "      <td>0</td>\n",
       "    </tr>\n",
       "    <tr>\n",
       "      <th>15</th>\n",
       "      <td>1.43</td>\n",
       "      <td>4.22</td>\n",
       "      <td>6.50</td>\n",
       "      <td>0</td>\n",
       "    </tr>\n",
       "  </tbody>\n",
       "</table>\n",
       "</div>"
      ],
      "text/plain": [
       "    home  draw  away  result\n",
       "0   2.78  3.48  2.33       0\n",
       "1   3.50  3.44  2.27       0\n",
       "2   2.82  3.24  2.50       0\n",
       "3   3.08  2.43  2.80       1\n",
       "4   2.94  3.50  2.22       0\n",
       "5   2.40  3.44  2.75       0\n",
       "6   2.03  3.20  3.92       1\n",
       "7   2.15  3.46  2.96       1\n",
       "8   2.41  3.15  3.30       1\n",
       "9   3.34  3.46  2.07       0\n",
       "10  2.64  3.30  2.39       0\n",
       "11  2.19  3.58  3.12       0\n",
       "12  2.84  3.32  2.29       0\n",
       "13  2.43  3.04  2.81       0\n",
       "14  2.68  2.92  2.73       0\n",
       "15  1.43  4.22  6.50       0"
      ]
     },
     "execution_count": 27,
     "metadata": {},
     "output_type": "execute_result"
    }
   ],
   "source": [
    "df2=pd.read_csv('/Users/ERIA/Desktop/test_data2.csv')\n",
    "df2.dropna(inplace=True)\n",
    "df2=df2.astype('float')\n",
    "df2.result=df2.result.astype('int')\n",
    "df2"
   ]
  },
  {
   "cell_type": "code",
   "execution_count": 28,
   "id": "bc042013-5d6e-414f-bbb0-11c0b9423bbb",
   "metadata": {},
   "outputs": [],
   "source": [
    "x_test2=df2.drop('result', axis=1)"
   ]
  },
  {
   "cell_type": "code",
   "execution_count": 29,
   "id": "5e22635b-3a9d-4c79-9820-6d444d5542c9",
   "metadata": {},
   "outputs": [
    {
     "name": "stdout",
     "output_type": "stream",
     "text": [
      "actual_values --->  [0, 0, 0, 1, 0, 0, 1, 1, 1, 0, 0, 0, 0, 0, 0, 0]\n",
      "predicted_values -> [0, 0, 0, 0, 1, 0, 1, 1, 0, 1, 0, 0, 0, 0, 1, 1]\n"
     ]
    }
   ],
   "source": [
    "y_pred2=model_rf.predict(x_test2)\n",
    "print('actual_values ---> ',list(np.array(df2.result)))\n",
    "print('predicted_values ->',list(y_pred2))\n"
   ]
  },
  {
   "cell_type": "code",
   "execution_count": 30,
   "id": "1a0e619e-62e4-4303-a237-86debeabe062",
   "metadata": {},
   "outputs": [
    {
     "name": "stdout",
     "output_type": "stream",
     "text": [
      "actual_values --->  [0, 0, 0, 1, 0, 0, 1, 1, 1, 0, 0, 0, 0, 0, 0, 0]\n",
      "predicted_values -> [0, 0, 0, 0, 1, 0, 1, 1, 0, 1, 0, 0, 0, 0, 0, 1]\n"
     ]
    }
   ],
   "source": [
    "y_pred2=model_ada.predict(x_test2)\n",
    "print('actual_values ---> ',list(np.array(df2.result)))\n",
    "print('predicted_values ->',list(y_pred2))\n"
   ]
  },
  {
   "cell_type": "markdown",
   "id": "0db55239-87d0-49f2-b5e5-b861cfab03b0",
   "metadata": {},
   "source": [
    "Adaptive boosting nailed 11 of 16 while random forest also correctly predicted 10 of 16 results"
   ]
  }
 ],
 "metadata": {
  "kernelspec": {
   "display_name": "Python 3 (ipykernel)",
   "language": "python",
   "name": "python3"
  },
  "language_info": {
   "codemirror_mode": {
    "name": "ipython",
    "version": 3
   },
   "file_extension": ".py",
   "mimetype": "text/x-python",
   "name": "python",
   "nbconvert_exporter": "python",
   "pygments_lexer": "ipython3",
   "version": "3.8.13"
  }
 },
 "nbformat": 4,
 "nbformat_minor": 5
}
