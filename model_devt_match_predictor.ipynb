{
 "cells": [
  {
   "cell_type": "markdown",
   "id": "e880ad2f-9e96-469a-a50e-f4bce1df67c7",
   "metadata": {},
   "source": [
    "__<h1>ADA_BOOST & RANDOM FOREST</h1>__"
   ]
  },
  {
   "cell_type": "markdown",
   "id": "cb81a4ce-bca9-49d1-b5ae-efa19da7ebf5",
   "metadata": {},
   "source": [
    "___KEY NOTES IN VERSION 3___\n",
    "- in this notebook, we aim to determine if the home team wins, 1, or doesn't 0. (loss or draw)\n",
    "- I used the random forest and adaptive boosting models using their default parameters\n",
    "- performance evaluated with k-fold cv\n",
    "- outliers removed"
   ]
  },
  {
   "cell_type": "code",
   "execution_count": 1,
   "id": "f103e0f5-eaa7-494e-8530-7a20c668330d",
   "metadata": {},
   "outputs": [],
   "source": [
    "import pandas as pd, numpy as np, seaborn as sns, glob, time, os, matplotlib.pyplot as plt\n",
    "from tqdm import tqdm\n",
    "import warnings\n",
    "warnings.filterwarnings('ignore')"
   ]
  },
  {
   "cell_type": "code",
   "execution_count": 2,
   "id": "399d703f-d449-4e03-b149-b3322279d713",
   "metadata": {},
   "outputs": [],
   "source": [
    "os.chdir('/Users/ERIA/Desktop/MATCH_DATA/')"
   ]
  },
  {
   "cell_type": "markdown",
   "id": "abbda379-c8c0-43e2-b4db-b55add3538b8",
   "metadata": {},
   "source": [
    "The cell below shows how the glob module is used to gather file names of the same type into a list. In this case, I collected all csv files in the /Users/ERIA/Desktop/MATCH_DATA/ directory"
   ]
  },
  {
   "cell_type": "code",
   "execution_count": 3,
   "id": "1db02dfb-d9d5-4356-83ce-a310be0be04d",
   "metadata": {},
   "outputs": [
    {
     "data": {
      "text/plain": [
       "7"
      ]
     },
     "execution_count": 3,
     "metadata": {},
     "output_type": "execute_result"
    }
   ],
   "source": [
    "csv_files=glob.glob('*.csv')\n",
    "len(csv_files)"
   ]
  },
  {
   "cell_type": "markdown",
   "id": "46515772-92d8-48d9-bcb3-59ac3baf9a27",
   "metadata": {},
   "source": [
    "all the files are then concatanated together along the rows (axis=0) to form one collection df"
   ]
  },
  {
   "cell_type": "code",
   "execution_count": 4,
   "id": "2436f71f-3177-4b76-b129-aa3d64ed841b",
   "metadata": {
    "tags": []
   },
   "outputs": [
    {
     "name": "stderr",
     "output_type": "stream",
     "text": [
      "100%|██████████| 7/7 [00:00<00:00, 86.64it/s]\n"
     ]
    },
    {
     "data": {
      "text/plain": [
       "(3233, 8)"
      ]
     },
     "execution_count": 4,
     "metadata": {},
     "output_type": "execute_result"
    }
   ],
   "source": [
    "count=0\n",
    "for file in tqdm(csv_files):\n",
    "    \n",
    "    if count ==0:\n",
    "        df=pd.read_csv(file)\n",
    "        count+=1\n",
    "        continue\n",
    "    else:\n",
    "        file=pd.read_csv(file)\n",
    "        df=pd.concat([df,file], axis=0)\n",
    "        count+=1\n",
    "df.shape"
   ]
  },
  {
   "cell_type": "markdown",
   "id": "4ab6148b-f2b7-4442-abf4-ef303ed56388",
   "metadata": {},
   "source": [
    "__<h2>DATA CLEANING</h2>__"
   ]
  },
  {
   "cell_type": "code",
   "execution_count": 5,
   "id": "33dbd805-335b-459a-a9e6-43da31709d95",
   "metadata": {},
   "outputs": [
    {
     "data": {
      "text/html": [
       "<div>\n",
       "<style scoped>\n",
       "    .dataframe tbody tr th:only-of-type {\n",
       "        vertical-align: middle;\n",
       "    }\n",
       "\n",
       "    .dataframe tbody tr th {\n",
       "        vertical-align: top;\n",
       "    }\n",
       "\n",
       "    .dataframe thead th {\n",
       "        text-align: right;\n",
       "    }\n",
       "</style>\n",
       "<table border=\"1\" class=\"dataframe\">\n",
       "  <thead>\n",
       "    <tr style=\"text-align: right;\">\n",
       "      <th></th>\n",
       "      <th>Unnamed: 0</th>\n",
       "      <th>hm_team</th>\n",
       "      <th>aw_team</th>\n",
       "      <th>hm_odd</th>\n",
       "      <th>dw_odd</th>\n",
       "      <th>aw_odd</th>\n",
       "      <th>hm_sco</th>\n",
       "      <th>aw_sco</th>\n",
       "    </tr>\n",
       "  </thead>\n",
       "  <tbody>\n",
       "    <tr>\n",
       "      <th>0</th>\n",
       "      <td>0</td>\n",
       "      <td>Paris SG</td>\n",
       "      <td>Brest</td>\n",
       "      <td>1.09</td>\n",
       "      <td>13.70</td>\n",
       "      <td>26.00</td>\n",
       "      <td>1</td>\n",
       "      <td>0</td>\n",
       "    </tr>\n",
       "    <tr>\n",
       "      <th>1</th>\n",
       "      <td>1</td>\n",
       "      <td>Marseille</td>\n",
       "      <td>Lille</td>\n",
       "      <td>2.05</td>\n",
       "      <td>3.66</td>\n",
       "      <td>3.68</td>\n",
       "      <td>2</td>\n",
       "      <td>1</td>\n",
       "    </tr>\n",
       "    <tr>\n",
       "      <th>2</th>\n",
       "      <td>2</td>\n",
       "      <td>Bayern Munich</td>\n",
       "      <td>Stuttgart</td>\n",
       "      <td>1.23</td>\n",
       "      <td>6.79</td>\n",
       "      <td>13.30</td>\n",
       "      <td>2</td>\n",
       "      <td>2</td>\n",
       "    </tr>\n",
       "    <tr>\n",
       "      <th>3</th>\n",
       "      <td>3</td>\n",
       "      <td>Eintracht Frankfurt</td>\n",
       "      <td>Wolfsburg</td>\n",
       "      <td>1.89</td>\n",
       "      <td>3.83</td>\n",
       "      <td>4.13</td>\n",
       "      <td>0</td>\n",
       "      <td>1</td>\n",
       "    </tr>\n",
       "    <tr>\n",
       "      <th>4</th>\n",
       "      <td>4</td>\n",
       "      <td>Hertha Berlin</td>\n",
       "      <td>Bayer Leverkusen</td>\n",
       "      <td>4.07</td>\n",
       "      <td>3.88</td>\n",
       "      <td>1.89</td>\n",
       "      <td>2</td>\n",
       "      <td>2</td>\n",
       "    </tr>\n",
       "  </tbody>\n",
       "</table>\n",
       "</div>"
      ],
      "text/plain": [
       "   Unnamed: 0              hm_team           aw_team hm_odd dw_odd aw_odd  \\\n",
       "0           0             Paris SG             Brest   1.09  13.70  26.00   \n",
       "1           1            Marseille             Lille   2.05   3.66   3.68   \n",
       "2           2        Bayern Munich         Stuttgart   1.23   6.79  13.30   \n",
       "3           3  Eintracht Frankfurt         Wolfsburg   1.89   3.83   4.13   \n",
       "4           4        Hertha Berlin  Bayer Leverkusen   4.07   3.88   1.89   \n",
       "\n",
       "  hm_sco aw_sco  \n",
       "0      1      0  \n",
       "1      2      1  \n",
       "2      2      2  \n",
       "3      0      1  \n",
       "4      2      2  "
      ]
     },
     "execution_count": 5,
     "metadata": {},
     "output_type": "execute_result"
    }
   ],
   "source": [
    "df.head()"
   ]
  },
  {
   "cell_type": "code",
   "execution_count": 6,
   "id": "7e8324af-1c41-4a42-a9f6-1afbd71e98b4",
   "metadata": {},
   "outputs": [
    {
     "data": {
      "text/html": [
       "<div>\n",
       "<style scoped>\n",
       "    .dataframe tbody tr th:only-of-type {\n",
       "        vertical-align: middle;\n",
       "    }\n",
       "\n",
       "    .dataframe tbody tr th {\n",
       "        vertical-align: top;\n",
       "    }\n",
       "\n",
       "    .dataframe thead th {\n",
       "        text-align: right;\n",
       "    }\n",
       "</style>\n",
       "<table border=\"1\" class=\"dataframe\">\n",
       "  <thead>\n",
       "    <tr style=\"text-align: right;\">\n",
       "      <th></th>\n",
       "      <th>hm_team</th>\n",
       "      <th>aw_team</th>\n",
       "      <th>hm_odd</th>\n",
       "      <th>dw_odd</th>\n",
       "      <th>aw_odd</th>\n",
       "      <th>hm_sco</th>\n",
       "      <th>aw_sco</th>\n",
       "    </tr>\n",
       "  </thead>\n",
       "  <tbody>\n",
       "    <tr>\n",
       "      <th>0</th>\n",
       "      <td>Paris SG</td>\n",
       "      <td>Brest</td>\n",
       "      <td>1.09</td>\n",
       "      <td>13.70</td>\n",
       "      <td>26.00</td>\n",
       "      <td>1</td>\n",
       "      <td>0</td>\n",
       "    </tr>\n",
       "    <tr>\n",
       "      <th>1</th>\n",
       "      <td>Marseille</td>\n",
       "      <td>Lille</td>\n",
       "      <td>2.05</td>\n",
       "      <td>3.66</td>\n",
       "      <td>3.68</td>\n",
       "      <td>2</td>\n",
       "      <td>1</td>\n",
       "    </tr>\n",
       "    <tr>\n",
       "      <th>2</th>\n",
       "      <td>Bayern Munich</td>\n",
       "      <td>Stuttgart</td>\n",
       "      <td>1.23</td>\n",
       "      <td>6.79</td>\n",
       "      <td>13.30</td>\n",
       "      <td>2</td>\n",
       "      <td>2</td>\n",
       "    </tr>\n",
       "    <tr>\n",
       "      <th>3</th>\n",
       "      <td>Eintracht Frankfurt</td>\n",
       "      <td>Wolfsburg</td>\n",
       "      <td>1.89</td>\n",
       "      <td>3.83</td>\n",
       "      <td>4.13</td>\n",
       "      <td>0</td>\n",
       "      <td>1</td>\n",
       "    </tr>\n",
       "    <tr>\n",
       "      <th>4</th>\n",
       "      <td>Hertha Berlin</td>\n",
       "      <td>Bayer Leverkusen</td>\n",
       "      <td>4.07</td>\n",
       "      <td>3.88</td>\n",
       "      <td>1.89</td>\n",
       "      <td>2</td>\n",
       "      <td>2</td>\n",
       "    </tr>\n",
       "  </tbody>\n",
       "</table>\n",
       "</div>"
      ],
      "text/plain": [
       "               hm_team           aw_team hm_odd dw_odd aw_odd hm_sco aw_sco\n",
       "0             Paris SG             Brest   1.09  13.70  26.00      1      0\n",
       "1            Marseille             Lille   2.05   3.66   3.68      2      1\n",
       "2        Bayern Munich         Stuttgart   1.23   6.79  13.30      2      2\n",
       "3  Eintracht Frankfurt         Wolfsburg   1.89   3.83   4.13      0      1\n",
       "4        Hertha Berlin  Bayer Leverkusen   4.07   3.88   1.89      2      2"
      ]
     },
     "execution_count": 6,
     "metadata": {},
     "output_type": "execute_result"
    }
   ],
   "source": [
    "df.drop(columns=['Unnamed: 0'],inplace=True, axis=1)\n",
    "df.head()"
   ]
  },
  {
   "cell_type": "code",
   "execution_count": 7,
   "id": "9cf22300-b1c8-4278-b557-9a899e8d91ad",
   "metadata": {},
   "outputs": [
    {
     "data": {
      "text/plain": [
       "hm_team    0\n",
       "aw_team    0\n",
       "hm_odd     0\n",
       "dw_odd     0\n",
       "aw_odd     0\n",
       "hm_sco     0\n",
       "aw_sco     0\n",
       "dtype: int64"
      ]
     },
     "execution_count": 7,
     "metadata": {},
     "output_type": "execute_result"
    }
   ],
   "source": [
    "df.isna().sum()"
   ]
  },
  {
   "cell_type": "code",
   "execution_count": 8,
   "id": "f97e717f-f18b-407a-b23a-08a53df3d86f",
   "metadata": {},
   "outputs": [
    {
     "data": {
      "text/plain": [
       "hm_team    0\n",
       "aw_team    0\n",
       "hm_odd     0\n",
       "dw_odd     0\n",
       "aw_odd     0\n",
       "hm_sco     0\n",
       "aw_sco     0\n",
       "dtype: int64"
      ]
     },
     "execution_count": 8,
     "metadata": {},
     "output_type": "execute_result"
    }
   ],
   "source": [
    "df.dropna(inplace=True)\n",
    "df.isna().sum()"
   ]
  },
  {
   "cell_type": "code",
   "execution_count": 9,
   "id": "2a5a23dc-3a72-4e64-abbd-d2fd99402af7",
   "metadata": {},
   "outputs": [
    {
     "data": {
      "text/plain": [
       "hm_team    object\n",
       "aw_team    object\n",
       "hm_odd     object\n",
       "dw_odd     object\n",
       "aw_odd     object\n",
       "hm_sco     object\n",
       "aw_sco     object\n",
       "dtype: object"
      ]
     },
     "execution_count": 9,
     "metadata": {},
     "output_type": "execute_result"
    }
   ],
   "source": [
    "df.dtypes"
   ]
  },
  {
   "cell_type": "markdown",
   "id": "f38c5619-b0b6-4bb0-b739-1ebf28abb28d",
   "metadata": {},
   "source": [
    "The data contains hyphens '-' for matches that didn't have odds by the time of collection. These records have to be dropped. I replace hyphens with nulls which I subsquently drop too as shown below "
   ]
  },
  {
   "cell_type": "code",
   "execution_count": 10,
   "id": "b74b9698-b6c9-426a-94c0-cb6f005cb788",
   "metadata": {},
   "outputs": [
    {
     "data": {
      "text/plain": [
       "hm_team      0\n",
       "aw_team      0\n",
       "hm_odd     770\n",
       "dw_odd     769\n",
       "aw_odd     769\n",
       "hm_sco       0\n",
       "aw_sco       2\n",
       "dtype: int64"
      ]
     },
     "execution_count": 10,
     "metadata": {},
     "output_type": "execute_result"
    }
   ],
   "source": [
    "df.replace(to_replace='-', value=np.nan, inplace=True)\n",
    "df.isna().sum()"
   ]
  },
  {
   "cell_type": "code",
   "execution_count": 11,
   "id": "939401c4-db43-4ef1-ad88-5c468ce15c59",
   "metadata": {},
   "outputs": [
    {
     "data": {
      "text/plain": [
       "hm_team    0\n",
       "aw_team    0\n",
       "hm_odd     0\n",
       "dw_odd     0\n",
       "aw_odd     0\n",
       "hm_sco     0\n",
       "aw_sco     0\n",
       "dtype: int64"
      ]
     },
     "execution_count": 11,
     "metadata": {},
     "output_type": "execute_result"
    }
   ],
   "source": [
    "df.dropna(inplace=True)\n",
    "df.isna().sum()"
   ]
  },
  {
   "cell_type": "code",
   "execution_count": 14,
   "id": "c35d29ac-210e-40b4-a7bb-af606e3edb12",
   "metadata": {},
   "outputs": [],
   "source": [
    "df.drop(columns=['hm_team','aw_team'],inplace=True, axis=1)"
   ]
  },
  {
   "cell_type": "markdown",
   "id": "95459c38-6ce8-4b36-9bfe-3f15fff3d2e0",
   "metadata": {},
   "source": [
    "All features converted to float"
   ]
  },
  {
   "cell_type": "code",
   "execution_count": 15,
   "id": "e1dad6b6-22bd-4a4b-ae0b-03312f05cdca",
   "metadata": {},
   "outputs": [
    {
     "data": {
      "text/plain": [
       "hm_odd    float64\n",
       "dw_odd    float64\n",
       "aw_odd    float64\n",
       "hm_sco    float64\n",
       "aw_sco    float64\n",
       "dtype: object"
      ]
     },
     "execution_count": 15,
     "metadata": {},
     "output_type": "execute_result"
    }
   ],
   "source": [
    "df=df.astype('float')\n",
    "df.dtypes"
   ]
  },
  {
   "cell_type": "code",
   "execution_count": 16,
   "id": "2e3d152f-e2a5-4763-bbf8-2f36360b1660",
   "metadata": {},
   "outputs": [
    {
     "data": {
      "text/html": [
       "<div>\n",
       "<style scoped>\n",
       "    .dataframe tbody tr th:only-of-type {\n",
       "        vertical-align: middle;\n",
       "    }\n",
       "\n",
       "    .dataframe tbody tr th {\n",
       "        vertical-align: top;\n",
       "    }\n",
       "\n",
       "    .dataframe thead th {\n",
       "        text-align: right;\n",
       "    }\n",
       "</style>\n",
       "<table border=\"1\" class=\"dataframe\">\n",
       "  <thead>\n",
       "    <tr style=\"text-align: right;\">\n",
       "      <th></th>\n",
       "      <th>hm_odd</th>\n",
       "      <th>dw_odd</th>\n",
       "      <th>aw_odd</th>\n",
       "      <th>hm_sco</th>\n",
       "      <th>aw_sco</th>\n",
       "    </tr>\n",
       "  </thead>\n",
       "  <tbody>\n",
       "    <tr>\n",
       "      <th>0</th>\n",
       "      <td>1.09</td>\n",
       "      <td>13.70</td>\n",
       "      <td>26.00</td>\n",
       "      <td>1.0</td>\n",
       "      <td>0.0</td>\n",
       "    </tr>\n",
       "    <tr>\n",
       "      <th>1</th>\n",
       "      <td>2.05</td>\n",
       "      <td>3.66</td>\n",
       "      <td>3.68</td>\n",
       "      <td>2.0</td>\n",
       "      <td>1.0</td>\n",
       "    </tr>\n",
       "    <tr>\n",
       "      <th>2</th>\n",
       "      <td>1.23</td>\n",
       "      <td>6.79</td>\n",
       "      <td>13.30</td>\n",
       "      <td>2.0</td>\n",
       "      <td>2.0</td>\n",
       "    </tr>\n",
       "    <tr>\n",
       "      <th>3</th>\n",
       "      <td>1.89</td>\n",
       "      <td>3.83</td>\n",
       "      <td>4.13</td>\n",
       "      <td>0.0</td>\n",
       "      <td>1.0</td>\n",
       "    </tr>\n",
       "    <tr>\n",
       "      <th>4</th>\n",
       "      <td>4.07</td>\n",
       "      <td>3.88</td>\n",
       "      <td>1.89</td>\n",
       "      <td>2.0</td>\n",
       "      <td>2.0</td>\n",
       "    </tr>\n",
       "  </tbody>\n",
       "</table>\n",
       "</div>"
      ],
      "text/plain": [
       "   hm_odd  dw_odd  aw_odd  hm_sco  aw_sco\n",
       "0    1.09   13.70   26.00     1.0     0.0\n",
       "1    2.05    3.66    3.68     2.0     1.0\n",
       "2    1.23    6.79   13.30     2.0     2.0\n",
       "3    1.89    3.83    4.13     0.0     1.0\n",
       "4    4.07    3.88    1.89     2.0     2.0"
      ]
     },
     "execution_count": 16,
     "metadata": {},
     "output_type": "execute_result"
    }
   ],
   "source": [
    "df.head()"
   ]
  },
  {
   "cell_type": "code",
   "execution_count": 17,
   "id": "2b80c28b-5cf0-427f-bd79-3af51f55e178",
   "metadata": {},
   "outputs": [
    {
     "name": "stdout",
     "output_type": "stream",
     "text": [
      "<class 'pandas.core.frame.DataFrame'>\n",
      "Int64Index: 2463 entries, 0 to 217\n",
      "Data columns (total 5 columns):\n",
      " #   Column  Non-Null Count  Dtype  \n",
      "---  ------  --------------  -----  \n",
      " 0   hm_odd  2463 non-null   float64\n",
      " 1   dw_odd  2463 non-null   float64\n",
      " 2   aw_odd  2463 non-null   float64\n",
      " 3   hm_sco  2463 non-null   float64\n",
      " 4   aw_sco  2463 non-null   float64\n",
      "dtypes: float64(5)\n",
      "memory usage: 115.5 KB\n"
     ]
    }
   ],
   "source": [
    "df.info()"
   ]
  },
  {
   "cell_type": "markdown",
   "id": "46e6096c-181f-4554-9a4e-ec648fed452c",
   "metadata": {},
   "source": [
    "__<h3>creating the target variable, result</h3>__\n",
    "for the home team win, we classify that as 1. A draw or win for the away team, 0"
   ]
  },
  {
   "cell_type": "code",
   "execution_count": 18,
   "id": "c99300eb-777b-4301-b0c9-dd0a107b38bf",
   "metadata": {},
   "outputs": [
    {
     "data": {
      "text/html": [
       "<div>\n",
       "<style scoped>\n",
       "    .dataframe tbody tr th:only-of-type {\n",
       "        vertical-align: middle;\n",
       "    }\n",
       "\n",
       "    .dataframe tbody tr th {\n",
       "        vertical-align: top;\n",
       "    }\n",
       "\n",
       "    .dataframe thead th {\n",
       "        text-align: right;\n",
       "    }\n",
       "</style>\n",
       "<table border=\"1\" class=\"dataframe\">\n",
       "  <thead>\n",
       "    <tr style=\"text-align: right;\">\n",
       "      <th></th>\n",
       "      <th>hm_odd</th>\n",
       "      <th>dw_odd</th>\n",
       "      <th>aw_odd</th>\n",
       "      <th>hm_sco</th>\n",
       "      <th>aw_sco</th>\n",
       "      <th>result</th>\n",
       "    </tr>\n",
       "  </thead>\n",
       "  <tbody>\n",
       "    <tr>\n",
       "      <th>0</th>\n",
       "      <td>1.09</td>\n",
       "      <td>13.70</td>\n",
       "      <td>26.00</td>\n",
       "      <td>1.0</td>\n",
       "      <td>0.0</td>\n",
       "      <td>1</td>\n",
       "    </tr>\n",
       "    <tr>\n",
       "      <th>1</th>\n",
       "      <td>2.05</td>\n",
       "      <td>3.66</td>\n",
       "      <td>3.68</td>\n",
       "      <td>2.0</td>\n",
       "      <td>1.0</td>\n",
       "      <td>1</td>\n",
       "    </tr>\n",
       "    <tr>\n",
       "      <th>2</th>\n",
       "      <td>1.23</td>\n",
       "      <td>6.79</td>\n",
       "      <td>13.30</td>\n",
       "      <td>2.0</td>\n",
       "      <td>2.0</td>\n",
       "      <td>0</td>\n",
       "    </tr>\n",
       "    <tr>\n",
       "      <th>3</th>\n",
       "      <td>1.89</td>\n",
       "      <td>3.83</td>\n",
       "      <td>4.13</td>\n",
       "      <td>0.0</td>\n",
       "      <td>1.0</td>\n",
       "      <td>0</td>\n",
       "    </tr>\n",
       "    <tr>\n",
       "      <th>4</th>\n",
       "      <td>4.07</td>\n",
       "      <td>3.88</td>\n",
       "      <td>1.89</td>\n",
       "      <td>2.0</td>\n",
       "      <td>2.0</td>\n",
       "      <td>0</td>\n",
       "    </tr>\n",
       "  </tbody>\n",
       "</table>\n",
       "</div>"
      ],
      "text/plain": [
       "   hm_odd  dw_odd  aw_odd  hm_sco  aw_sco  result\n",
       "0    1.09   13.70   26.00     1.0     0.0       1\n",
       "1    2.05    3.66    3.68     2.0     1.0       1\n",
       "2    1.23    6.79   13.30     2.0     2.0       0\n",
       "3    1.89    3.83    4.13     0.0     1.0       0\n",
       "4    4.07    3.88    1.89     2.0     2.0       0"
      ]
     },
     "execution_count": 18,
     "metadata": {},
     "output_type": "execute_result"
    }
   ],
   "source": [
    "#aiming\n",
    "df['result']=np.where(df['hm_sco']==df['aw_sco'],0, np.where(df.hm_sco<df.aw_sco,0,1) )\n",
    "\n",
    "df.head()"
   ]
  },
  {
   "cell_type": "code",
   "execution_count": 19,
   "id": "a0fe29e1-82d7-476e-a811-be31d725fab8",
   "metadata": {},
   "outputs": [
    {
     "data": {
      "text/plain": [
       "0    1379\n",
       "1    1084\n",
       "Name: result, dtype: int64"
      ]
     },
     "execution_count": 19,
     "metadata": {},
     "output_type": "execute_result"
    }
   ],
   "source": [
    "df.result.value_counts()"
   ]
  },
  {
   "cell_type": "code",
   "execution_count": 20,
   "id": "204787cb-4ed4-41a7-aa06-5bd9823c0359",
   "metadata": {},
   "outputs": [
    {
     "data": {
      "text/plain": [
       "(2463, 6)"
      ]
     },
     "execution_count": 20,
     "metadata": {},
     "output_type": "execute_result"
    }
   ],
   "source": [
    "df.shape"
   ]
  },
  {
   "cell_type": "code",
   "execution_count": 21,
   "id": "aa392b14-7ac9-41f9-8d45-f70ad87dde96",
   "metadata": {},
   "outputs": [
    {
     "data": {
      "text/html": [
       "<div>\n",
       "<style scoped>\n",
       "    .dataframe tbody tr th:only-of-type {\n",
       "        vertical-align: middle;\n",
       "    }\n",
       "\n",
       "    .dataframe tbody tr th {\n",
       "        vertical-align: top;\n",
       "    }\n",
       "\n",
       "    .dataframe thead th {\n",
       "        text-align: right;\n",
       "    }\n",
       "</style>\n",
       "<table border=\"1\" class=\"dataframe\">\n",
       "  <thead>\n",
       "    <tr style=\"text-align: right;\">\n",
       "      <th></th>\n",
       "      <th>hm_odd</th>\n",
       "      <th>dw_odd</th>\n",
       "      <th>aw_odd</th>\n",
       "      <th>result</th>\n",
       "    </tr>\n",
       "  </thead>\n",
       "  <tbody>\n",
       "    <tr>\n",
       "      <th>0</th>\n",
       "      <td>1.09</td>\n",
       "      <td>13.70</td>\n",
       "      <td>26.00</td>\n",
       "      <td>1</td>\n",
       "    </tr>\n",
       "    <tr>\n",
       "      <th>1</th>\n",
       "      <td>2.05</td>\n",
       "      <td>3.66</td>\n",
       "      <td>3.68</td>\n",
       "      <td>1</td>\n",
       "    </tr>\n",
       "    <tr>\n",
       "      <th>2</th>\n",
       "      <td>1.23</td>\n",
       "      <td>6.79</td>\n",
       "      <td>13.30</td>\n",
       "      <td>0</td>\n",
       "    </tr>\n",
       "    <tr>\n",
       "      <th>3</th>\n",
       "      <td>1.89</td>\n",
       "      <td>3.83</td>\n",
       "      <td>4.13</td>\n",
       "      <td>0</td>\n",
       "    </tr>\n",
       "    <tr>\n",
       "      <th>4</th>\n",
       "      <td>4.07</td>\n",
       "      <td>3.88</td>\n",
       "      <td>1.89</td>\n",
       "      <td>0</td>\n",
       "    </tr>\n",
       "  </tbody>\n",
       "</table>\n",
       "</div>"
      ],
      "text/plain": [
       "   hm_odd  dw_odd  aw_odd  result\n",
       "0    1.09   13.70   26.00       1\n",
       "1    2.05    3.66    3.68       1\n",
       "2    1.23    6.79   13.30       0\n",
       "3    1.89    3.83    4.13       0\n",
       "4    4.07    3.88    1.89       0"
      ]
     },
     "execution_count": 21,
     "metadata": {},
     "output_type": "execute_result"
    }
   ],
   "source": [
    "df.drop(columns=['hm_sco','aw_sco'], inplace=True)\n",
    "df.head()"
   ]
  },
  {
   "cell_type": "markdown",
   "id": "6fdd74c0-38aa-4601-8d18-48f83704ae47",
   "metadata": {},
   "source": [
    "__<h3>Dealing with Duplicates</h3>__"
   ]
  },
  {
   "cell_type": "code",
   "execution_count": 22,
   "id": "aabc1b22-807c-4e7f-b458-634b14f4c04e",
   "metadata": {},
   "outputs": [],
   "source": [
    "duplicates=df[df.duplicated()==True]\n",
    "duplicates.to_csv('/Users/ERIA/Desktop/MATCH_DATA/COMPILED_MATCH_DATA/duplicates.csv')"
   ]
  },
  {
   "cell_type": "code",
   "execution_count": 23,
   "id": "e2c3c0e9-0b54-4924-bf1f-a0aa44601e3f",
   "metadata": {},
   "outputs": [
    {
     "data": {
      "text/plain": [
       "(51, 4)"
      ]
     },
     "execution_count": 23,
     "metadata": {},
     "output_type": "execute_result"
    }
   ],
   "source": [
    "df[df.duplicated()==True].shape"
   ]
  },
  {
   "cell_type": "code",
   "execution_count": 24,
   "id": "c239813f-f26b-4ca2-8f42-8f3dc73fa1f6",
   "metadata": {},
   "outputs": [],
   "source": [
    "df.drop_duplicates(inplace=True)"
   ]
  },
  {
   "cell_type": "code",
   "execution_count": 25,
   "id": "61b3d376-5991-49d1-bedd-af20a683e1a6",
   "metadata": {},
   "outputs": [
    {
     "data": {
      "text/plain": [
       "(2412, 4)"
      ]
     },
     "execution_count": 25,
     "metadata": {},
     "output_type": "execute_result"
    }
   ],
   "source": [
    "df.shape"
   ]
  },
  {
   "cell_type": "code",
   "execution_count": 26,
   "id": "8a6e9c4f-4632-4b94-8d25-d01d76a20407",
   "metadata": {},
   "outputs": [],
   "source": [
    "df.to_csv('/Users/ERIA/Desktop/MATCH_DATA/COMPILED_MATCH_DATA/compiled_data.csv')"
   ]
  },
  {
   "cell_type": "markdown",
   "id": "57ca6e9a-3b0b-46c1-96a0-1ea02f1e9d4c",
   "metadata": {},
   "source": [
    "__<h3>OUTLIER DETECTION & REMOVAL</h3>__"
   ]
  },
  {
   "cell_type": "code",
   "execution_count": 27,
   "id": "3d46acbf-7c31-479b-b449-510197ff21ce",
   "metadata": {},
   "outputs": [
    {
     "data": {
      "text/plain": [
       "<AxesSubplot:>"
      ]
     },
     "execution_count": 27,
     "metadata": {},
     "output_type": "execute_result"
    },
    {
     "data": {
      "image/png": "[encoded data removed]",
      "text/plain": [
       "<Figure size 640x480 with 1 Axes>"
      ]
     },
     "metadata": {},
     "output_type": "display_data"
    }
   ],
   "source": [
    "sns.boxplot(data=df)"
   ]
  },
  {
   "cell_type": "markdown",
   "id": "b813ce7c-6f23-4a55-8d61-11de4ce2cf64",
   "metadata": {},
   "source": [
    "__<h4>Removal of Outliers</h4>__"
   ]
  },
  {
   "cell_type": "code",
   "execution_count": 31,
   "id": "13f7fcb0-221c-4b53-afae-bed6e4a5a11b",
   "metadata": {},
   "outputs": [
    {
     "data": {
      "text/plain": [
       "<AxesSubplot:>"
      ]
     },
     "execution_count": 31,
     "metadata": {},
     "output_type": "execute_result"
    },
    {
     "data": {
      "image/png": "[encoded data removed]",
      "text/plain": [
       "<Figure size 640x480 with 1 Axes>"
      ]
     },
     "metadata": {},
     "output_type": "display_data"
    }
   ],
   "source": [
    "df.hm_odd=np.where(df.hm_odd>4.5,np.nan, df.hm_odd)\n",
    "df.dw_odd=np.where(df.dw_odd>5,np.nan, df.dw_odd)\n",
    "df.aw_odd=np.where(df.aw_odd>6.6,np.nan, df.aw_odd)\n",
    "df2=df.dropna()\n",
    "df=df2\n",
    "sns.boxplot(data=df2)"
   ]
  },
  {
   "cell_type": "code",
   "execution_count": 42,
   "id": "a6540c2f-7aef-44a7-871e-f055ee2b1242",
   "metadata": {},
   "outputs": [
    {
     "data": {
      "text/plain": [
       "0    1078\n",
       "1     799\n",
       "Name: result, dtype: int64"
      ]
     },
     "execution_count": 42,
     "metadata": {},
     "output_type": "execute_result"
    }
   ],
   "source": [
    "df.result.value_counts()"
   ]
  },
  {
   "cell_type": "markdown",
   "id": "a844d2d5-d2af-47cc-8b6c-2c26eb9acf1e",
   "metadata": {},
   "source": [
    "<h2>MODEL DEVELOPMENT</h2>"
   ]
  },
  {
   "cell_type": "markdown",
   "id": "53f20e45-89a9-4e75-9315-b315738c5239",
   "metadata": {},
   "source": [
    "__<h2>RANDOM FOREST</h2>__"
   ]
  },
  {
   "cell_type": "code",
   "execution_count": 78,
   "id": "228431e1-91d6-4080-a928-667998bd159d",
   "metadata": {},
   "outputs": [
    {
     "name": "stdout",
     "output_type": "stream",
     "text": [
      "0.5886524822695035\n",
      "              precision    recall  f1-score   support\n",
      "\n",
      "           0       0.66      0.66      0.66       340\n",
      "           1       0.48      0.48      0.48       224\n",
      "\n",
      "    accuracy                           0.59       564\n",
      "   macro avg       0.57      0.57      0.57       564\n",
      "weighted avg       0.59      0.59      0.59       564\n",
      "\n"
     ]
    }
   ],
   "source": [
    "from sklearn.model_selection import train_test_split\n",
    "\n",
    "X=df.drop('result', axis=1)\n",
    "y=df['result']\n",
    "\n",
    "col_names=X.columns\n",
    "\n",
    "x_train, x_test, y_train, y_test=train_test_split(X,y,test_size=0.3)\n",
    "\n",
    "from sklearn.ensemble import RandomForestClassifier\n",
    "from sklearn.metrics import classification_report, accuracy_score\n",
    "model_rf=RandomForestClassifier(n_jobs=-1,)\n",
    "\n",
    "model_rf.fit(x_train,y_train)\n",
    "\n",
    "y_pred=model_rf.predict(x_test)\n",
    "\n",
    "print(accuracy_score(y_test,y_pred))\n",
    "print(classification_report(y_test,y_pred))"
   ]
  },
  {
   "cell_type": "markdown",
   "id": "0cdd287f-4c2d-4159-8497-e535329619b7",
   "metadata": {},
   "source": [
    "__<h3>CROSS VALIDATION ON THE RANDOM FOREST MODEL</h3>__\n",
    "The purpose is to see how the model performs on unseen data"
   ]
  },
  {
   "cell_type": "code",
   "execution_count": 33,
   "id": "194a9add-34fc-4030-8209-b1e14a97ffe0",
   "metadata": {},
   "outputs": [
    {
     "data": {
      "text/plain": [
       "array([0.59090909, 0.61363636, 0.56818182, 0.50381679, 0.57251908,\n",
       "       0.54961832, 0.52671756, 0.57251908, 0.52671756, 0.58015267])"
      ]
     },
     "execution_count": 33,
     "metadata": {},
     "output_type": "execute_result"
    }
   ],
   "source": [
    "from sklearn.model_selection import cross_val_score\n",
    "accuracies=cross_val_score(estimator=model_rf, X=x_train, y=y_train, cv=10, n_jobs=-1)\n",
    "accuracies"
   ]
  },
  {
   "cell_type": "markdown",
   "id": "571d6eb1-ac38-4e93-ae26-7b4a47223e19",
   "metadata": {},
   "source": [
    "__<h2>ADA_BOOST</h2>__"
   ]
  },
  {
   "cell_type": "code",
   "execution_count": 34,
   "id": "918622fd-985c-4026-8e24-2bf08211e542",
   "metadata": {},
   "outputs": [
    {
     "name": "stdout",
     "output_type": "stream",
     "text": [
      "0.5886524822695035\n",
      "              precision    recall  f1-score   support\n",
      "\n",
      "           0       0.65      0.68      0.66       337\n",
      "           1       0.49      0.45      0.47       227\n",
      "\n",
      "    accuracy                           0.59       564\n",
      "   macro avg       0.57      0.57      0.57       564\n",
      "weighted avg       0.58      0.59      0.59       564\n",
      "\n"
     ]
    }
   ],
   "source": [
    "from sklearn.ensemble import AdaBoostClassifier\n",
    "\n",
    "model_ada=AdaBoostClassifier(base_estimator=model_rf, n_estimators=100, \n",
    "                             learning_rate=0.5, random_state=91)\n",
    "\n",
    "model_ada.fit(x_train,y_train)\n",
    "y_pred=model_ada.predict(x_test)\n",
    "print(accuracy_score(y_test,y_pred))\n",
    "print(classification_report(y_test,y_pred))"
   ]
  },
  {
   "cell_type": "markdown",
   "id": "7935c27f-bf97-4584-9cf0-ff52b901a73f",
   "metadata": {},
   "source": [
    "__<h3>CROSS VALIDATION ON THE ADAPTIVE BOOSTING MODEL</h3>__\n",
    "The purpose is to see how the model performs on unseen data"
   ]
  },
  {
   "cell_type": "raw",
   "id": "23b5702c-4c89-49d0-85ce-a04438f9c890",
   "metadata": {},
   "source": [
    "accuracies=cross_val_score(estimator=model_ada, X=x_train, y=y_train, cv=10, n_jobs=-1)\n",
    "accuracies"
   ]
  },
  {
   "cell_type": "markdown",
   "id": "10018b00-f4d2-4db3-8d81-6cf1ec4fbb7b",
   "metadata": {},
   "source": [
    "__<h3>TESTING BOTH MODELS ON NEW DATA</h3>__"
   ]
  },
  {
   "cell_type": "code",
   "execution_count": 81,
   "id": "6403c2b1-61d8-4374-b469-0109726ff638",
   "metadata": {
    "scrolled": true,
    "tags": []
   },
   "outputs": [
    {
     "data": {
      "text/html": [
       "<div>\n",
       "<style scoped>\n",
       "    .dataframe tbody tr th:only-of-type {\n",
       "        vertical-align: middle;\n",
       "    }\n",
       "\n",
       "    .dataframe tbody tr th {\n",
       "        vertical-align: top;\n",
       "    }\n",
       "\n",
       "    .dataframe thead th {\n",
       "        text-align: right;\n",
       "    }\n",
       "</style>\n",
       "<table border=\"1\" class=\"dataframe\">\n",
       "  <thead>\n",
       "    <tr style=\"text-align: right;\">\n",
       "      <th></th>\n",
       "      <th>home</th>\n",
       "      <th>draw</th>\n",
       "      <th>away</th>\n",
       "      <th>result</th>\n",
       "    </tr>\n",
       "  </thead>\n",
       "  <tbody>\n",
       "    <tr>\n",
       "      <th>0</th>\n",
       "      <td>2.45</td>\n",
       "      <td>3.30</td>\n",
       "      <td>2.79</td>\n",
       "      <td>0</td>\n",
       "    </tr>\n",
       "    <tr>\n",
       "      <th>1</th>\n",
       "      <td>2.44</td>\n",
       "      <td>3.34</td>\n",
       "      <td>2.77</td>\n",
       "      <td>0</td>\n",
       "    </tr>\n",
       "    <tr>\n",
       "      <th>2</th>\n",
       "      <td>2.32</td>\n",
       "      <td>3.63</td>\n",
       "      <td>3.03</td>\n",
       "      <td>0</td>\n",
       "    </tr>\n",
       "    <tr>\n",
       "      <th>3</th>\n",
       "      <td>2.47</td>\n",
       "      <td>3.33</td>\n",
       "      <td>2.74</td>\n",
       "      <td>0</td>\n",
       "    </tr>\n",
       "  </tbody>\n",
       "</table>\n",
       "</div>"
      ],
      "text/plain": [
       "   home  draw  away  result\n",
       "0  2.45  3.30  2.79       0\n",
       "1  2.44  3.34  2.77       0\n",
       "2  2.32  3.63  3.03       0\n",
       "3  2.47  3.33  2.74       0"
      ]
     },
     "execution_count": 81,
     "metadata": {},
     "output_type": "execute_result"
    }
   ],
   "source": [
    "df2=pd.read_csv('/Users/ERIA/Desktop/test_data3.csv')\n",
    "#df2.dropna(inplace=True)\n",
    "#df2.result=df2['result'].astype('int')\n",
    "x_test2=df2.iloc[:,:3].astype('float')\n",
    "df2"
   ]
  },
  {
   "cell_type": "code",
   "execution_count": 82,
   "id": "1a0e619e-62e4-4303-a237-86debeabe062",
   "metadata": {},
   "outputs": [
    {
     "name": "stdout",
     "output_type": "stream",
     "text": [
      "actual_values --->  [0, 0, 0, 0]\n",
      "predicted_values -> [0, 0, 1, 0]\n"
     ]
    }
   ],
   "source": [
    "y_pred2=model_rf.predict(x_test2)\n",
    "print('actual_values ---> ',list(np.array(df2.result)))\n",
    "print('predicted_values ->',list(y_pred2))"
   ]
  },
  {
   "cell_type": "code",
   "execution_count": 83,
   "id": "6555b8ed-9ab2-4858-878b-54519dc4b555",
   "metadata": {},
   "outputs": [
    {
     "name": "stdout",
     "output_type": "stream",
     "text": [
      "actual_values --->  [0, 0, 0, 0]\n",
      "predicted_values -> [0, 1, 0, 0]\n"
     ]
    }
   ],
   "source": [
    "y_pred2=model_ada.predict(x_test2)\n",
    "print('actual_values ---> ',list(np.array(df2.result)))\n",
    "print('predicted_values ->',list(y_pred2))"
   ]
  },
  {
   "cell_type": "code",
   "execution_count": null,
   "id": "e8b197af-7f7d-41f4-82ed-5eb4275c0820",
   "metadata": {},
   "outputs": [],
   "source": []
  }
 ],
 "metadata": {
  "kernelspec": {
   "display_name": "Python 3 (ipykernel)",
   "language": "python",
   "name": "python3"
  },
  "language_info": {
   "codemirror_mode": {
    "name": "ipython",
    "version": 3
   },
   "file_extension": ".py",
   "mimetype": "text/x-python",
   "name": "python",
   "nbconvert_exporter": "python",
   "pygments_lexer": "ipython3",
   "version": "3.8.13"
  }
 },
 "nbformat": 4,
 "nbformat_minor": 5
}
