{
 "cells": [
  {
   "cell_type": "markdown",
   "id": "373c5f78-bb10-4296-87ef-8fe9b1ed1f66",
   "metadata": {},
   "source": [
    "This notebook is an update of the odds_n_results notebook to correct the misalligned odds and results.\n",
    "It does the correction by scrapping one match at a time. any match with an entry missing, e.g. odds and results, is skipped."
   ]
  },
  {
   "cell_type": "code",
   "execution_count": 1,
   "id": "cc8955af-9d19-4659-8f0f-2c67a654097f",
   "metadata": {
    "tags": []
   },
   "outputs": [],
   "source": [
    "#scrappers\n",
    "from selenium import webdriver\n",
    "from selenium.webdriver.common.keys import Keys\n",
    "from selenium.common.exceptions import NoSuchElementException\n",
    "from selenium.common.exceptions import SessionNotCreatedException\n",
    "from selenium.webdriver.common.by import By\n",
    "from selenium.webdriver.support.ui import WebDriverWait\n",
    "from selenium.webdriver.support import expected_conditions\n",
    "from selenium.webdriver.chrome.options import Options\n",
    "from tqdm import tqdm\n",
    "\n",
    "\n",
    "#other modules\n",
    "import time, re\n",
    "import os, pandas as pd, numpy as np\n",
    "\n",
    "#filter warnings\n",
    "import warnings\n",
    "warnings.filterwarnings('ignore')"
   ]
  },
  {
   "cell_type": "code",
   "execution_count": 2,
   "id": "ad303c82-5fa2-4fea-acb2-762c60dce19b",
   "metadata": {
    "scrolled": true,
    "tags": []
   },
   "outputs": [],
   "source": [
    "#driver=webdriver.Chrome('/Users/ERIA/Library/Application Support/WebDriverManager/bin/chromedriver')\n",
    "driver=webdriver.Chrome('/Users/ERIA/chromedriver')\n",
    "driver.get('https://www.flashscore.com/')\n",
    "driver.maximize_window()"
   ]
  },
  {
   "cell_type": "code",
   "execution_count": 3,
   "id": "9b4a141c-c9d2-471c-b12a-6de5bfecb61b",
   "metadata": {},
   "outputs": [],
   "source": [
    "#accepting cookies\n",
    "time.sleep(3)\n",
    "driver.find_element(By.XPATH,'//*[@id=\"onetrust-accept-btn-handler\"]').click()"
   ]
  },
  {
   "cell_type": "code",
   "execution_count": 4,
   "id": "c24f706e-09c6-40d9-a2f7-ae872d407f1e",
   "metadata": {},
   "outputs": [],
   "source": [
    "#click odds button\n",
    "driver.find_element(By.XPATH,'//*[@id=\"live-table\"]/div[1]/div[1]/div[3]').click()"
   ]
  },
  {
   "cell_type": "code",
   "execution_count": 5,
   "id": "428f64d7-4f76-4cca-9402-c52bb8419b3e",
   "metadata": {},
   "outputs": [],
   "source": [
    "#days x_paths list\n",
    "\n",
    "day_xpaths=['//*[@id=\"live-table\"]/div[1]/div[2]/div/div[4]/div[7]','//*[@id=\"live-table\"]/div[1]/div[2]/div/div[4]/div[6]',\n",
    "            '//*[@id=\"live-table\"]/div[1]/div[2]/div/div[4]/div[5]','//*[@id=\"live-table\"]/div[1]/div[2]/div/div[4]/div[4]',\n",
    "            '//*[@id=\"live-table\"]/div[1]/div[2]/div/div[4]/div[3]','//*[@id=\"live-table\"]/div[1]/div[2]/div/div[4]/div[2]',\n",
    "            '//*[@id=\"live-table\"]/div[1]/div[2]/div/div[4]/div[1]']\n"
   ]
  },
  {
   "cell_type": "code",
   "execution_count": 6,
   "id": "51c4ea1c-417b-4f2b-ba4e-0d1e9d9f6681",
   "metadata": {},
   "outputs": [],
   "source": [
    "#click date picker button\n",
    "driver.find_element(By.XPATH,'//*[@id=\"live-table\"]/div[1]/div[2]/div/div[2]').click()\n",
    "\n",
    "#click specific day\n",
    "driver.find_element(By.XPATH,day_xpaths[0]).click()\n",
    "time.sleep(2)"
   ]
  },
  {
   "cell_type": "code",
   "execution_count": 7,
   "id": "45fc0b81-b4d8-4301-aa2b-735d2de4beda",
   "metadata": {},
   "outputs": [],
   "source": [
    "#write path (file to store collected data)\n",
    "write_path='/Users/ERIA/Desktop/10_9_2022.csv'\n",
    "time.sleep(3)"
   ]
  },
  {
   "cell_type": "code",
   "execution_count": 8,
   "id": "dffe691b-2513-4bc9-8512-d7631eeeb47d",
   "metadata": {},
   "outputs": [],
   "source": [
    "matches=driver.find_elements(By.CLASS_NAME,'event__match--twoLine')"
   ]
  },
  {
   "cell_type": "code",
   "execution_count": 9,
   "id": "e59b99f6-d7f3-4250-85d5-41760f2a4028",
   "metadata": {},
   "outputs": [
    {
     "data": {
      "text/plain": [
       "1385"
      ]
     },
     "execution_count": 9,
     "metadata": {},
     "output_type": "execute_result"
    }
   ],
   "source": [
    "len(matches)"
   ]
  },
  {
   "cell_type": "code",
   "execution_count": 10,
   "id": "178b1b4a-b2fb-4318-aec9-b14aafae3fdf",
   "metadata": {},
   "outputs": [],
   "source": [
    "hm_team=[]\n",
    "aw_team=[]\n",
    "hm_odd=[]\n",
    "dw_odd=[]\n",
    "aw_odd=[]\n",
    "hm_sco=[]\n",
    "aw_sco=[]"
   ]
  },
  {
   "cell_type": "code",
   "execution_count": 11,
   "id": "f38ecefb-ab10-449a-98a0-26f71a6011c0",
   "metadata": {},
   "outputs": [
    {
     "name": "stdout",
     "output_type": "stream",
     "text": [
      "CPU times: user 1.58 s, sys: 108 ms, total: 1.69 s\n",
      "Wall time: 54.1 s\n"
     ]
    }
   ],
   "source": [
    "%%time\n",
    "for match in matches:\n",
    "    match_data=match.text.split('\\n')\n",
    "    if len(match_data)!=8:\n",
    "        continue\n",
    "    else:\n",
    "        hm_team.append(match_data[1])\n",
    "        aw_team.append(match_data[2])\n",
    "        hm_odd.append(match_data[5])\n",
    "        dw_odd.append(match_data[6])\n",
    "        aw_odd.append(match_data[7])\n",
    "        hm_sco.append(match_data[3])\n",
    "        aw_sco.append(match_data[4])"
   ]
  },
  {
   "cell_type": "code",
   "execution_count": 12,
   "id": "9c4382fa-986e-4059-a489-578c0c744cc2",
   "metadata": {},
   "outputs": [
    {
     "data": {
      "text/html": [
       "<div>\n",
       "<style scoped>\n",
       "    .dataframe tbody tr th:only-of-type {\n",
       "        vertical-align: middle;\n",
       "    }\n",
       "\n",
       "    .dataframe tbody tr th {\n",
       "        vertical-align: top;\n",
       "    }\n",
       "\n",
       "    .dataframe thead th {\n",
       "        text-align: right;\n",
       "    }\n",
       "</style>\n",
       "<table border=\"1\" class=\"dataframe\">\n",
       "  <thead>\n",
       "    <tr style=\"text-align: right;\">\n",
       "      <th></th>\n",
       "      <th>hm_team</th>\n",
       "      <th>aw_team</th>\n",
       "      <th>hm_odd</th>\n",
       "      <th>dw_odd</th>\n",
       "      <th>aw_odd</th>\n",
       "      <th>hm_sco</th>\n",
       "      <th>aw_sco</th>\n",
       "    </tr>\n",
       "  </thead>\n",
       "  <tbody>\n",
       "    <tr>\n",
       "      <th>0</th>\n",
       "      <td>Paris SG</td>\n",
       "      <td>Brest</td>\n",
       "      <td>1.09</td>\n",
       "      <td>13.70</td>\n",
       "      <td>26.00</td>\n",
       "      <td>1</td>\n",
       "      <td>0</td>\n",
       "    </tr>\n",
       "    <tr>\n",
       "      <th>1</th>\n",
       "      <td>Marseille</td>\n",
       "      <td>Lille</td>\n",
       "      <td>2.05</td>\n",
       "      <td>3.66</td>\n",
       "      <td>3.68</td>\n",
       "      <td>2</td>\n",
       "      <td>1</td>\n",
       "    </tr>\n",
       "    <tr>\n",
       "      <th>2</th>\n",
       "      <td>Bayern Munich</td>\n",
       "      <td>Stuttgart</td>\n",
       "      <td>1.23</td>\n",
       "      <td>6.79</td>\n",
       "      <td>13.30</td>\n",
       "      <td>2</td>\n",
       "      <td>2</td>\n",
       "    </tr>\n",
       "    <tr>\n",
       "      <th>3</th>\n",
       "      <td>Eintracht Frankfurt</td>\n",
       "      <td>Wolfsburg</td>\n",
       "      <td>1.89</td>\n",
       "      <td>3.83</td>\n",
       "      <td>4.13</td>\n",
       "      <td>0</td>\n",
       "      <td>1</td>\n",
       "    </tr>\n",
       "    <tr>\n",
       "      <th>4</th>\n",
       "      <td>Hertha Berlin</td>\n",
       "      <td>Bayer Leverkusen</td>\n",
       "      <td>4.07</td>\n",
       "      <td>3.88</td>\n",
       "      <td>1.89</td>\n",
       "      <td>2</td>\n",
       "      <td>2</td>\n",
       "    </tr>\n",
       "    <tr>\n",
       "      <th>...</th>\n",
       "      <td>...</td>\n",
       "      <td>...</td>\n",
       "      <td>...</td>\n",
       "      <td>...</td>\n",
       "      <td>...</td>\n",
       "      <td>...</td>\n",
       "      <td>...</td>\n",
       "    </tr>\n",
       "    <tr>\n",
       "      <th>1176</th>\n",
       "      <td>Power Dynamos</td>\n",
       "      <td>FC Muza</td>\n",
       "      <td>1.64</td>\n",
       "      <td>2.75</td>\n",
       "      <td>8.50</td>\n",
       "      <td>0</td>\n",
       "      <td>0</td>\n",
       "    </tr>\n",
       "    <tr>\n",
       "      <th>1177</th>\n",
       "      <td>Bulawayo City FC</td>\n",
       "      <td>Cranborne Bullets</td>\n",
       "      <td>-</td>\n",
       "      <td>-</td>\n",
       "      <td>-</td>\n",
       "      <td>1</td>\n",
       "      <td>2</td>\n",
       "    </tr>\n",
       "    <tr>\n",
       "      <th>1178</th>\n",
       "      <td>Harare City</td>\n",
       "      <td>ZPC Kariba</td>\n",
       "      <td>-</td>\n",
       "      <td>-</td>\n",
       "      <td>-</td>\n",
       "      <td>0</td>\n",
       "      <td>0</td>\n",
       "    </tr>\n",
       "    <tr>\n",
       "      <th>1179</th>\n",
       "      <td>Ngezi Platinum</td>\n",
       "      <td>Bulawayo Chiefs</td>\n",
       "      <td>-</td>\n",
       "      <td>-</td>\n",
       "      <td>-</td>\n",
       "      <td>1</td>\n",
       "      <td>0</td>\n",
       "    </tr>\n",
       "    <tr>\n",
       "      <th>1180</th>\n",
       "      <td>Whawha</td>\n",
       "      <td>Platinum</td>\n",
       "      <td>-</td>\n",
       "      <td>-</td>\n",
       "      <td>-</td>\n",
       "      <td>1</td>\n",
       "      <td>2</td>\n",
       "    </tr>\n",
       "  </tbody>\n",
       "</table>\n",
       "<p>1181 rows × 7 columns</p>\n",
       "</div>"
      ],
      "text/plain": [
       "                  hm_team            aw_team hm_odd dw_odd aw_odd hm_sco  \\\n",
       "0                Paris SG              Brest   1.09  13.70  26.00      1   \n",
       "1               Marseille              Lille   2.05   3.66   3.68      2   \n",
       "2           Bayern Munich          Stuttgart   1.23   6.79  13.30      2   \n",
       "3     Eintracht Frankfurt          Wolfsburg   1.89   3.83   4.13      0   \n",
       "4           Hertha Berlin   Bayer Leverkusen   4.07   3.88   1.89      2   \n",
       "...                   ...                ...    ...    ...    ...    ...   \n",
       "1176        Power Dynamos            FC Muza   1.64   2.75   8.50      0   \n",
       "1177     Bulawayo City FC  Cranborne Bullets      -      -      -      1   \n",
       "1178          Harare City         ZPC Kariba      -      -      -      0   \n",
       "1179       Ngezi Platinum    Bulawayo Chiefs      -      -      -      1   \n",
       "1180               Whawha           Platinum      -      -      -      1   \n",
       "\n",
       "     aw_sco  \n",
       "0         0  \n",
       "1         1  \n",
       "2         2  \n",
       "3         1  \n",
       "4         2  \n",
       "...     ...  \n",
       "1176      0  \n",
       "1177      2  \n",
       "1178      0  \n",
       "1179      0  \n",
       "1180      2  \n",
       "\n",
       "[1181 rows x 7 columns]"
      ]
     },
     "execution_count": 12,
     "metadata": {},
     "output_type": "execute_result"
    }
   ],
   "source": [
    "df=pd.DataFrame(data={'hm_team':hm_team,'aw_team':aw_team,'hm_odd':hm_odd,'dw_odd':dw_odd,'aw_odd':aw_odd,'hm_sco':hm_sco,'aw_sco':aw_sco})\n",
    "df"
   ]
  },
  {
   "cell_type": "code",
   "execution_count": 13,
   "id": "08db3ff0-e612-4280-bb9d-c74aa7db9e71",
   "metadata": {},
   "outputs": [],
   "source": [
    "lists=[hm_team,aw_team,hm_odd,dw_odd,aw_odd,hm_sco,aw_sco]"
   ]
  },
  {
   "cell_type": "code",
   "execution_count": 14,
   "id": "4add67a9-d23a-46ea-a9ae-438ee2d3f1f1",
   "metadata": {},
   "outputs": [],
   "source": [
    "df.to_csv(write_path)"
   ]
  },
  {
   "cell_type": "code",
   "execution_count": 15,
   "id": "9f52977f-2c94-4924-9dca-8400107fd2d9",
   "metadata": {},
   "outputs": [
    {
     "data": {
      "text/html": [
       "<div>\n",
       "<style scoped>\n",
       "    .dataframe tbody tr th:only-of-type {\n",
       "        vertical-align: middle;\n",
       "    }\n",
       "\n",
       "    .dataframe tbody tr th {\n",
       "        vertical-align: top;\n",
       "    }\n",
       "\n",
       "    .dataframe thead th {\n",
       "        text-align: right;\n",
       "    }\n",
       "</style>\n",
       "<table border=\"1\" class=\"dataframe\">\n",
       "  <thead>\n",
       "    <tr style=\"text-align: right;\">\n",
       "      <th></th>\n",
       "      <th>hm_team</th>\n",
       "      <th>aw_team</th>\n",
       "      <th>hm_odd</th>\n",
       "      <th>dw_odd</th>\n",
       "      <th>aw_odd</th>\n",
       "      <th>hm_sco</th>\n",
       "      <th>aw_sco</th>\n",
       "    </tr>\n",
       "  </thead>\n",
       "  <tbody>\n",
       "  </tbody>\n",
       "</table>\n",
       "</div>"
      ],
      "text/plain": [
       "Empty DataFrame\n",
       "Columns: [hm_team, aw_team, hm_odd, dw_odd, aw_odd, hm_sco, aw_sco]\n",
       "Index: []"
      ]
     },
     "execution_count": 15,
     "metadata": {},
     "output_type": "execute_result"
    }
   ],
   "source": [
    "df[df.hm_team=='Monza']"
   ]
  },
  {
   "cell_type": "code",
   "execution_count": null,
   "id": "c134d35c-cad0-4e11-bdca-957ed5726a79",
   "metadata": {},
   "outputs": [],
   "source": []
  }
 ],
 "metadata": {
  "kernelspec": {
   "display_name": "Python 3 (ipykernel)",
   "language": "python",
   "name": "python3"
  },
  "language_info": {
   "codemirror_mode": {
    "name": "ipython",
    "version": 3
   },
   "file_extension": ".py",
   "mimetype": "text/x-python",
   "name": "python",
   "nbconvert_exporter": "python",
   "pygments_lexer": "ipython3",
   "version": "3.8.13"
  }
 },
 "nbformat": 4,
 "nbformat_minor": 5
}
