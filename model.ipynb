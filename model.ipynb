{
 "cells": [
  {
   "cell_type": "markdown",
   "id": "e880ad2f-9e96-469a-a50e-f4bce1df67c7",
   "metadata": {},
   "source": [
    "__<h1>LOGISTIC REGRESSION & RANDOM FOREST</h1>__"
   ]
  },
  {
   "cell_type": "markdown",
   "id": "cb81a4ce-bca9-49d1-b5ae-efa19da7ebf5",
   "metadata": {},
   "source": [
    "___KEY NOTES IN VERSION 3___\n",
    "- in this notebook, we aim to determine if the home team wins, 1, or doesn't 0. (loss or draw)\n",
    "- I used the random forest and logistic regression classification models with default parameters\n",
    "- performance evaluated with k-fold cv\n",
    "- outliers removed"
   ]
  },
  {
   "cell_type": "code",
   "execution_count": 1,
   "id": "f103e0f5-eaa7-494e-8530-7a20c668330d",
   "metadata": {},
   "outputs": [],
   "source": [
    "import pandas as pd, numpy as np, seaborn as sns, glob, time, os, matplotlib.pyplot as plt\n",
    "from tqdm import tqdm\n",
    "import warnings\n",
    "warnings.filterwarnings('ignore')"
   ]
  },
  {
   "cell_type": "code",
   "execution_count": 2,
   "id": "399d703f-d449-4e03-b149-b3322279d713",
   "metadata": {},
   "outputs": [],
   "source": [
    "os.chdir('/Users/ERIA/Desktop/MATCH_DATA/')"
   ]
  },
  {
   "cell_type": "markdown",
   "id": "abbda379-c8c0-43e2-b4db-b55add3538b8",
   "metadata": {},
   "source": [
    "The cell below shows how the glob module is used to gather file names of the same type into a list. In this case, I collected all csv files in the /Users/ERIA/Desktop/MATCH_DATA/ directory"
   ]
  },
  {
   "cell_type": "code",
   "execution_count": 3,
   "id": "1db02dfb-d9d5-4356-83ce-a310be0be04d",
   "metadata": {},
   "outputs": [
    {
     "data": {
      "text/plain": [
       "30"
      ]
     },
     "execution_count": 3,
     "metadata": {},
     "output_type": "execute_result"
    }
   ],
   "source": [
    "csv_files=glob.glob('*.csv')\n",
    "len(csv_files)"
   ]
  },
  {
   "cell_type": "markdown",
   "id": "46515772-92d8-48d9-bcb3-59ac3baf9a27",
   "metadata": {},
   "source": [
    "all the files are then concatanated together along the rows (axis=0) to form one collection df"
   ]
  },
  {
   "cell_type": "code",
   "execution_count": 4,
   "id": "2436f71f-3177-4b76-b129-aa3d64ed841b",
   "metadata": {
    "tags": []
   },
   "outputs": [
    {
     "name": "stderr",
     "output_type": "stream",
     "text": [
      "100%|██████████| 30/30 [00:00<00:00, 74.04it/s]\n"
     ]
    },
    {
     "data": {
      "text/plain": [
       "(12221, 11)"
      ]
     },
     "execution_count": 4,
     "metadata": {},
     "output_type": "execute_result"
    }
   ],
   "source": [
    "count=0\n",
    "for file in tqdm(csv_files):\n",
    "    \n",
    "    if count ==0:\n",
    "        df=pd.read_csv(file)\n",
    "        count+=1\n",
    "        continue\n",
    "    else:\n",
    "        file=pd.read_csv(file)\n",
    "        df=pd.concat([df,file], axis=0)\n",
    "        count+=1\n",
    "df.shape"
   ]
  },
  {
   "cell_type": "markdown",
   "id": "4ab6148b-f2b7-4442-abf4-ef303ed56388",
   "metadata": {},
   "source": [
    "__<h2>DATA CLEANING</h2>__"
   ]
  },
  {
   "cell_type": "code",
   "execution_count": 5,
   "id": "33dbd805-335b-459a-a9e6-43da31709d95",
   "metadata": {},
   "outputs": [
    {
     "data": {
      "text/html": [
       "<div>\n",
       "<style scoped>\n",
       "    .dataframe tbody tr th:only-of-type {\n",
       "        vertical-align: middle;\n",
       "    }\n",
       "\n",
       "    .dataframe tbody tr th {\n",
       "        vertical-align: top;\n",
       "    }\n",
       "\n",
       "    .dataframe thead th {\n",
       "        text-align: right;\n",
       "    }\n",
       "</style>\n",
       "<table border=\"1\" class=\"dataframe\">\n",
       "  <thead>\n",
       "    <tr style=\"text-align: right;\">\n",
       "      <th></th>\n",
       "      <th>Unnamed: 0</th>\n",
       "      <th>hm_team</th>\n",
       "      <th>aw_team</th>\n",
       "      <th>hm_odd</th>\n",
       "      <th>dw_odd</th>\n",
       "      <th>aw_odd</th>\n",
       "      <th>hm_sco</th>\n",
       "      <th>aw_sco</th>\n",
       "      <th>h2h_h</th>\n",
       "      <th>h2h_d</th>\n",
       "      <th>h2h_a</th>\n",
       "    </tr>\n",
       "  </thead>\n",
       "  <tbody>\n",
       "    <tr>\n",
       "      <th>0</th>\n",
       "      <td>0</td>\n",
       "      <td>Paris SG</td>\n",
       "      <td>Brest</td>\n",
       "      <td>1.09</td>\n",
       "      <td>13.70</td>\n",
       "      <td>26.00</td>\n",
       "      <td>1</td>\n",
       "      <td>0</td>\n",
       "      <td>NaN</td>\n",
       "      <td>NaN</td>\n",
       "      <td>NaN</td>\n",
       "    </tr>\n",
       "    <tr>\n",
       "      <th>1</th>\n",
       "      <td>1</td>\n",
       "      <td>Marseille</td>\n",
       "      <td>Lille</td>\n",
       "      <td>2.05</td>\n",
       "      <td>3.66</td>\n",
       "      <td>3.68</td>\n",
       "      <td>2</td>\n",
       "      <td>1</td>\n",
       "      <td>NaN</td>\n",
       "      <td>NaN</td>\n",
       "      <td>NaN</td>\n",
       "    </tr>\n",
       "    <tr>\n",
       "      <th>2</th>\n",
       "      <td>2</td>\n",
       "      <td>Bayern Munich</td>\n",
       "      <td>Stuttgart</td>\n",
       "      <td>1.23</td>\n",
       "      <td>6.79</td>\n",
       "      <td>13.30</td>\n",
       "      <td>2</td>\n",
       "      <td>2</td>\n",
       "      <td>NaN</td>\n",
       "      <td>NaN</td>\n",
       "      <td>NaN</td>\n",
       "    </tr>\n",
       "    <tr>\n",
       "      <th>3</th>\n",
       "      <td>3</td>\n",
       "      <td>Eintracht Frankfurt</td>\n",
       "      <td>Wolfsburg</td>\n",
       "      <td>1.89</td>\n",
       "      <td>3.83</td>\n",
       "      <td>4.13</td>\n",
       "      <td>0</td>\n",
       "      <td>1</td>\n",
       "      <td>NaN</td>\n",
       "      <td>NaN</td>\n",
       "      <td>NaN</td>\n",
       "    </tr>\n",
       "    <tr>\n",
       "      <th>4</th>\n",
       "      <td>4</td>\n",
       "      <td>Hertha Berlin</td>\n",
       "      <td>Bayer Leverkusen</td>\n",
       "      <td>4.07</td>\n",
       "      <td>3.88</td>\n",
       "      <td>1.89</td>\n",
       "      <td>2</td>\n",
       "      <td>2</td>\n",
       "      <td>NaN</td>\n",
       "      <td>NaN</td>\n",
       "      <td>NaN</td>\n",
       "    </tr>\n",
       "  </tbody>\n",
       "</table>\n",
       "</div>"
      ],
      "text/plain": [
       "  Unnamed: 0              hm_team           aw_team hm_odd dw_odd aw_odd  \\\n",
       "0          0             Paris SG             Brest   1.09  13.70  26.00   \n",
       "1          1            Marseille             Lille   2.05   3.66   3.68   \n",
       "2          2        Bayern Munich         Stuttgart   1.23   6.79  13.30   \n",
       "3          3  Eintracht Frankfurt         Wolfsburg   1.89   3.83   4.13   \n",
       "4          4        Hertha Berlin  Bayer Leverkusen   4.07   3.88   1.89   \n",
       "\n",
       "  hm_sco aw_sco  h2h_h  h2h_d  h2h_a  \n",
       "0      1      0    NaN    NaN    NaN  \n",
       "1      2      1    NaN    NaN    NaN  \n",
       "2      2      2    NaN    NaN    NaN  \n",
       "3      0      1    NaN    NaN    NaN  \n",
       "4      2      2    NaN    NaN    NaN  "
      ]
     },
     "execution_count": 5,
     "metadata": {},
     "output_type": "execute_result"
    }
   ],
   "source": [
    "df.head()"
   ]
  },
  {
   "cell_type": "code",
   "execution_count": 6,
   "id": "7e8324af-1c41-4a42-a9f6-1afbd71e98b4",
   "metadata": {},
   "outputs": [
    {
     "data": {
      "text/html": [
       "<div>\n",
       "<style scoped>\n",
       "    .dataframe tbody tr th:only-of-type {\n",
       "        vertical-align: middle;\n",
       "    }\n",
       "\n",
       "    .dataframe tbody tr th {\n",
       "        vertical-align: top;\n",
       "    }\n",
       "\n",
       "    .dataframe thead th {\n",
       "        text-align: right;\n",
       "    }\n",
       "</style>\n",
       "<table border=\"1\" class=\"dataframe\">\n",
       "  <thead>\n",
       "    <tr style=\"text-align: right;\">\n",
       "      <th></th>\n",
       "      <th>hm_team</th>\n",
       "      <th>aw_team</th>\n",
       "      <th>hm_odd</th>\n",
       "      <th>dw_odd</th>\n",
       "      <th>aw_odd</th>\n",
       "      <th>hm_sco</th>\n",
       "      <th>aw_sco</th>\n",
       "      <th>h2h_h</th>\n",
       "      <th>h2h_d</th>\n",
       "      <th>h2h_a</th>\n",
       "    </tr>\n",
       "  </thead>\n",
       "  <tbody>\n",
       "    <tr>\n",
       "      <th>0</th>\n",
       "      <td>Paris SG</td>\n",
       "      <td>Brest</td>\n",
       "      <td>1.09</td>\n",
       "      <td>13.70</td>\n",
       "      <td>26.00</td>\n",
       "      <td>1</td>\n",
       "      <td>0</td>\n",
       "      <td>NaN</td>\n",
       "      <td>NaN</td>\n",
       "      <td>NaN</td>\n",
       "    </tr>\n",
       "    <tr>\n",
       "      <th>1</th>\n",
       "      <td>Marseille</td>\n",
       "      <td>Lille</td>\n",
       "      <td>2.05</td>\n",
       "      <td>3.66</td>\n",
       "      <td>3.68</td>\n",
       "      <td>2</td>\n",
       "      <td>1</td>\n",
       "      <td>NaN</td>\n",
       "      <td>NaN</td>\n",
       "      <td>NaN</td>\n",
       "    </tr>\n",
       "    <tr>\n",
       "      <th>2</th>\n",
       "      <td>Bayern Munich</td>\n",
       "      <td>Stuttgart</td>\n",
       "      <td>1.23</td>\n",
       "      <td>6.79</td>\n",
       "      <td>13.30</td>\n",
       "      <td>2</td>\n",
       "      <td>2</td>\n",
       "      <td>NaN</td>\n",
       "      <td>NaN</td>\n",
       "      <td>NaN</td>\n",
       "    </tr>\n",
       "    <tr>\n",
       "      <th>3</th>\n",
       "      <td>Eintracht Frankfurt</td>\n",
       "      <td>Wolfsburg</td>\n",
       "      <td>1.89</td>\n",
       "      <td>3.83</td>\n",
       "      <td>4.13</td>\n",
       "      <td>0</td>\n",
       "      <td>1</td>\n",
       "      <td>NaN</td>\n",
       "      <td>NaN</td>\n",
       "      <td>NaN</td>\n",
       "    </tr>\n",
       "    <tr>\n",
       "      <th>4</th>\n",
       "      <td>Hertha Berlin</td>\n",
       "      <td>Bayer Leverkusen</td>\n",
       "      <td>4.07</td>\n",
       "      <td>3.88</td>\n",
       "      <td>1.89</td>\n",
       "      <td>2</td>\n",
       "      <td>2</td>\n",
       "      <td>NaN</td>\n",
       "      <td>NaN</td>\n",
       "      <td>NaN</td>\n",
       "    </tr>\n",
       "  </tbody>\n",
       "</table>\n",
       "</div>"
      ],
      "text/plain": [
       "               hm_team           aw_team hm_odd dw_odd aw_odd hm_sco aw_sco  \\\n",
       "0             Paris SG             Brest   1.09  13.70  26.00      1      0   \n",
       "1            Marseille             Lille   2.05   3.66   3.68      2      1   \n",
       "2        Bayern Munich         Stuttgart   1.23   6.79  13.30      2      2   \n",
       "3  Eintracht Frankfurt         Wolfsburg   1.89   3.83   4.13      0      1   \n",
       "4        Hertha Berlin  Bayer Leverkusen   4.07   3.88   1.89      2      2   \n",
       "\n",
       "   h2h_h  h2h_d  h2h_a  \n",
       "0    NaN    NaN    NaN  \n",
       "1    NaN    NaN    NaN  \n",
       "2    NaN    NaN    NaN  \n",
       "3    NaN    NaN    NaN  \n",
       "4    NaN    NaN    NaN  "
      ]
     },
     "execution_count": 6,
     "metadata": {},
     "output_type": "execute_result"
    }
   ],
   "source": [
    "df.drop(columns=['Unnamed: 0'],inplace=True, axis=1)\n",
    "df.head()"
   ]
  },
  {
   "cell_type": "code",
   "execution_count": 7,
   "id": "9cf22300-b1c8-4278-b557-9a899e8d91ad",
   "metadata": {},
   "outputs": [
    {
     "data": {
      "text/plain": [
       "hm_team        0\n",
       "aw_team        0\n",
       "hm_odd         0\n",
       "dw_odd         0\n",
       "aw_odd         0\n",
       "hm_sco         0\n",
       "aw_sco         0\n",
       "h2h_h      11767\n",
       "h2h_d      11767\n",
       "h2h_a      11767\n",
       "dtype: int64"
      ]
     },
     "execution_count": 7,
     "metadata": {},
     "output_type": "execute_result"
    }
   ],
   "source": [
    "df.isna().sum()"
   ]
  },
  {
   "cell_type": "code",
   "execution_count": 8,
   "id": "2357ed7f-7038-4630-9aac-0ea8a348654c",
   "metadata": {},
   "outputs": [],
   "source": [
    "df.drop(columns=['h2h_h','h2h_d','h2h_a'], axis=1,inplace=True)"
   ]
  },
  {
   "cell_type": "code",
   "execution_count": 9,
   "id": "f97e717f-f18b-407a-b23a-08a53df3d86f",
   "metadata": {},
   "outputs": [
    {
     "data": {
      "text/plain": [
       "hm_team    0\n",
       "aw_team    0\n",
       "hm_odd     0\n",
       "dw_odd     0\n",
       "aw_odd     0\n",
       "hm_sco     0\n",
       "aw_sco     0\n",
       "dtype: int64"
      ]
     },
     "execution_count": 9,
     "metadata": {},
     "output_type": "execute_result"
    }
   ],
   "source": [
    "df.dropna(inplace=True)\n",
    "df.isna().sum()"
   ]
  },
  {
   "cell_type": "code",
   "execution_count": 10,
   "id": "2a5a23dc-3a72-4e64-abbd-d2fd99402af7",
   "metadata": {},
   "outputs": [
    {
     "data": {
      "text/plain": [
       "hm_team    object\n",
       "aw_team    object\n",
       "hm_odd     object\n",
       "dw_odd     object\n",
       "aw_odd     object\n",
       "hm_sco     object\n",
       "aw_sco     object\n",
       "dtype: object"
      ]
     },
     "execution_count": 10,
     "metadata": {},
     "output_type": "execute_result"
    }
   ],
   "source": [
    "df.dtypes"
   ]
  },
  {
   "cell_type": "markdown",
   "id": "f38c5619-b0b6-4bb0-b739-1ebf28abb28d",
   "metadata": {},
   "source": [
    "The data contains hyphens '-' for matches that didn't have odds by the time of collection. These records have to be dropped. I replace hyphens with nulls which I subsquently drop too as shown below "
   ]
  },
  {
   "cell_type": "code",
   "execution_count": 11,
   "id": "b74b9698-b6c9-426a-94c0-cb6f005cb788",
   "metadata": {},
   "outputs": [
    {
     "data": {
      "text/plain": [
       "hm_team       0\n",
       "aw_team       0\n",
       "hm_odd     3115\n",
       "dw_odd     3109\n",
       "aw_odd     3151\n",
       "hm_sco        0\n",
       "aw_sco      121\n",
       "dtype: int64"
      ]
     },
     "execution_count": 11,
     "metadata": {},
     "output_type": "execute_result"
    }
   ],
   "source": [
    "df.replace(to_replace='-', value=np.nan, inplace=True)\n",
    "df.isna().sum()"
   ]
  },
  {
   "cell_type": "code",
   "execution_count": 12,
   "id": "939401c4-db43-4ef1-ad88-5c468ce15c59",
   "metadata": {},
   "outputs": [
    {
     "data": {
      "text/plain": [
       "hm_team    0\n",
       "aw_team    0\n",
       "hm_odd     0\n",
       "dw_odd     0\n",
       "aw_odd     0\n",
       "hm_sco     0\n",
       "aw_sco     0\n",
       "dtype: int64"
      ]
     },
     "execution_count": 12,
     "metadata": {},
     "output_type": "execute_result"
    }
   ],
   "source": [
    "df.dropna(inplace=True)\n",
    "df.isna().sum()"
   ]
  },
  {
   "cell_type": "code",
   "execution_count": 13,
   "id": "c35d29ac-210e-40b4-a7bb-af606e3edb12",
   "metadata": {},
   "outputs": [],
   "source": [
    "df.drop(columns=['hm_team','aw_team'],inplace=True, axis=1)"
   ]
  },
  {
   "cell_type": "markdown",
   "id": "95459c38-6ce8-4b36-9bfe-3f15fff3d2e0",
   "metadata": {},
   "source": [
    "All features converted to float"
   ]
  },
  {
   "cell_type": "code",
   "execution_count": 14,
   "id": "e1dad6b6-22bd-4a4b-ae0b-03312f05cdca",
   "metadata": {},
   "outputs": [
    {
     "data": {
      "text/plain": [
       "hm_odd    float64\n",
       "dw_odd    float64\n",
       "aw_odd    float64\n",
       "hm_sco    float64\n",
       "aw_sco    float64\n",
       "dtype: object"
      ]
     },
     "execution_count": 14,
     "metadata": {},
     "output_type": "execute_result"
    }
   ],
   "source": [
    "df=df.astype('float')\n",
    "df.dtypes"
   ]
  },
  {
   "cell_type": "code",
   "execution_count": 15,
   "id": "2e3d152f-e2a5-4763-bbf8-2f36360b1660",
   "metadata": {},
   "outputs": [
    {
     "data": {
      "text/html": [
       "<div>\n",
       "<style scoped>\n",
       "    .dataframe tbody tr th:only-of-type {\n",
       "        vertical-align: middle;\n",
       "    }\n",
       "\n",
       "    .dataframe tbody tr th {\n",
       "        vertical-align: top;\n",
       "    }\n",
       "\n",
       "    .dataframe thead th {\n",
       "        text-align: right;\n",
       "    }\n",
       "</style>\n",
       "<table border=\"1\" class=\"dataframe\">\n",
       "  <thead>\n",
       "    <tr style=\"text-align: right;\">\n",
       "      <th></th>\n",
       "      <th>hm_odd</th>\n",
       "      <th>dw_odd</th>\n",
       "      <th>aw_odd</th>\n",
       "      <th>hm_sco</th>\n",
       "      <th>aw_sco</th>\n",
       "    </tr>\n",
       "  </thead>\n",
       "  <tbody>\n",
       "    <tr>\n",
       "      <th>0</th>\n",
       "      <td>1.09</td>\n",
       "      <td>13.70</td>\n",
       "      <td>26.00</td>\n",
       "      <td>1.0</td>\n",
       "      <td>0.0</td>\n",
       "    </tr>\n",
       "    <tr>\n",
       "      <th>1</th>\n",
       "      <td>2.05</td>\n",
       "      <td>3.66</td>\n",
       "      <td>3.68</td>\n",
       "      <td>2.0</td>\n",
       "      <td>1.0</td>\n",
       "    </tr>\n",
       "    <tr>\n",
       "      <th>2</th>\n",
       "      <td>1.23</td>\n",
       "      <td>6.79</td>\n",
       "      <td>13.30</td>\n",
       "      <td>2.0</td>\n",
       "      <td>2.0</td>\n",
       "    </tr>\n",
       "    <tr>\n",
       "      <th>3</th>\n",
       "      <td>1.89</td>\n",
       "      <td>3.83</td>\n",
       "      <td>4.13</td>\n",
       "      <td>0.0</td>\n",
       "      <td>1.0</td>\n",
       "    </tr>\n",
       "    <tr>\n",
       "      <th>4</th>\n",
       "      <td>4.07</td>\n",
       "      <td>3.88</td>\n",
       "      <td>1.89</td>\n",
       "      <td>2.0</td>\n",
       "      <td>2.0</td>\n",
       "    </tr>\n",
       "  </tbody>\n",
       "</table>\n",
       "</div>"
      ],
      "text/plain": [
       "   hm_odd  dw_odd  aw_odd  hm_sco  aw_sco\n",
       "0    1.09   13.70   26.00     1.0     0.0\n",
       "1    2.05    3.66    3.68     2.0     1.0\n",
       "2    1.23    6.79   13.30     2.0     2.0\n",
       "3    1.89    3.83    4.13     0.0     1.0\n",
       "4    4.07    3.88    1.89     2.0     2.0"
      ]
     },
     "execution_count": 15,
     "metadata": {},
     "output_type": "execute_result"
    }
   ],
   "source": [
    "df.head()"
   ]
  },
  {
   "cell_type": "code",
   "execution_count": 16,
   "id": "2b80c28b-5cf0-427f-bd79-3af51f55e178",
   "metadata": {},
   "outputs": [
    {
     "name": "stdout",
     "output_type": "stream",
     "text": [
      "<class 'pandas.core.frame.DataFrame'>\n",
      "Int64Index: 9029 entries, 0 to 215\n",
      "Data columns (total 5 columns):\n",
      " #   Column  Non-Null Count  Dtype  \n",
      "---  ------  --------------  -----  \n",
      " 0   hm_odd  9029 non-null   float64\n",
      " 1   dw_odd  9029 non-null   float64\n",
      " 2   aw_odd  9029 non-null   float64\n",
      " 3   hm_sco  9029 non-null   float64\n",
      " 4   aw_sco  9029 non-null   float64\n",
      "dtypes: float64(5)\n",
      "memory usage: 423.2 KB\n"
     ]
    }
   ],
   "source": [
    "df.info()"
   ]
  },
  {
   "cell_type": "markdown",
   "id": "46e6096c-181f-4554-9a4e-ec648fed452c",
   "metadata": {},
   "source": [
    "__<h3>creating the target variable, result</h3>__\n",
    "for the home team win, we classify that as 1. A draw or win for the away team, 0"
   ]
  },
  {
   "cell_type": "code",
   "execution_count": 17,
   "id": "c99300eb-777b-4301-b0c9-dd0a107b38bf",
   "metadata": {},
   "outputs": [
    {
     "data": {
      "text/html": [
       "<div>\n",
       "<style scoped>\n",
       "    .dataframe tbody tr th:only-of-type {\n",
       "        vertical-align: middle;\n",
       "    }\n",
       "\n",
       "    .dataframe tbody tr th {\n",
       "        vertical-align: top;\n",
       "    }\n",
       "\n",
       "    .dataframe thead th {\n",
       "        text-align: right;\n",
       "    }\n",
       "</style>\n",
       "<table border=\"1\" class=\"dataframe\">\n",
       "  <thead>\n",
       "    <tr style=\"text-align: right;\">\n",
       "      <th></th>\n",
       "      <th>hm_odd</th>\n",
       "      <th>dw_odd</th>\n",
       "      <th>aw_odd</th>\n",
       "      <th>hm_sco</th>\n",
       "      <th>aw_sco</th>\n",
       "      <th>result</th>\n",
       "    </tr>\n",
       "  </thead>\n",
       "  <tbody>\n",
       "    <tr>\n",
       "      <th>0</th>\n",
       "      <td>1.09</td>\n",
       "      <td>13.70</td>\n",
       "      <td>26.00</td>\n",
       "      <td>1.0</td>\n",
       "      <td>0.0</td>\n",
       "      <td>1</td>\n",
       "    </tr>\n",
       "    <tr>\n",
       "      <th>1</th>\n",
       "      <td>2.05</td>\n",
       "      <td>3.66</td>\n",
       "      <td>3.68</td>\n",
       "      <td>2.0</td>\n",
       "      <td>1.0</td>\n",
       "      <td>1</td>\n",
       "    </tr>\n",
       "    <tr>\n",
       "      <th>2</th>\n",
       "      <td>1.23</td>\n",
       "      <td>6.79</td>\n",
       "      <td>13.30</td>\n",
       "      <td>2.0</td>\n",
       "      <td>2.0</td>\n",
       "      <td>0</td>\n",
       "    </tr>\n",
       "    <tr>\n",
       "      <th>3</th>\n",
       "      <td>1.89</td>\n",
       "      <td>3.83</td>\n",
       "      <td>4.13</td>\n",
       "      <td>0.0</td>\n",
       "      <td>1.0</td>\n",
       "      <td>0</td>\n",
       "    </tr>\n",
       "    <tr>\n",
       "      <th>4</th>\n",
       "      <td>4.07</td>\n",
       "      <td>3.88</td>\n",
       "      <td>1.89</td>\n",
       "      <td>2.0</td>\n",
       "      <td>2.0</td>\n",
       "      <td>0</td>\n",
       "    </tr>\n",
       "  </tbody>\n",
       "</table>\n",
       "</div>"
      ],
      "text/plain": [
       "   hm_odd  dw_odd  aw_odd  hm_sco  aw_sco  result\n",
       "0    1.09   13.70   26.00     1.0     0.0       1\n",
       "1    2.05    3.66    3.68     2.0     1.0       1\n",
       "2    1.23    6.79   13.30     2.0     2.0       0\n",
       "3    1.89    3.83    4.13     0.0     1.0       0\n",
       "4    4.07    3.88    1.89     2.0     2.0       0"
      ]
     },
     "execution_count": 17,
     "metadata": {},
     "output_type": "execute_result"
    }
   ],
   "source": [
    "\n",
    "df['result']=np.where(df['hm_sco']==df['aw_sco'],0, np.where(df.hm_sco<df.aw_sco,0,1) )\n",
    "\n",
    "df.head()"
   ]
  },
  {
   "cell_type": "code",
   "execution_count": 18,
   "id": "a0fe29e1-82d7-476e-a811-be31d725fab8",
   "metadata": {},
   "outputs": [
    {
     "data": {
      "text/plain": [
       "0    4941\n",
       "1    4088\n",
       "Name: result, dtype: int64"
      ]
     },
     "execution_count": 18,
     "metadata": {},
     "output_type": "execute_result"
    }
   ],
   "source": [
    "df.result.value_counts()"
   ]
  },
  {
   "cell_type": "code",
   "execution_count": 19,
   "id": "204787cb-4ed4-41a7-aa06-5bd9823c0359",
   "metadata": {},
   "outputs": [
    {
     "data": {
      "text/plain": [
       "(9029, 6)"
      ]
     },
     "execution_count": 19,
     "metadata": {},
     "output_type": "execute_result"
    }
   ],
   "source": [
    "df.shape"
   ]
  },
  {
   "cell_type": "code",
   "execution_count": 20,
   "id": "aa392b14-7ac9-41f9-8d45-f70ad87dde96",
   "metadata": {},
   "outputs": [
    {
     "data": {
      "text/html": [
       "<div>\n",
       "<style scoped>\n",
       "    .dataframe tbody tr th:only-of-type {\n",
       "        vertical-align: middle;\n",
       "    }\n",
       "\n",
       "    .dataframe tbody tr th {\n",
       "        vertical-align: top;\n",
       "    }\n",
       "\n",
       "    .dataframe thead th {\n",
       "        text-align: right;\n",
       "    }\n",
       "</style>\n",
       "<table border=\"1\" class=\"dataframe\">\n",
       "  <thead>\n",
       "    <tr style=\"text-align: right;\">\n",
       "      <th></th>\n",
       "      <th>hm_odd</th>\n",
       "      <th>dw_odd</th>\n",
       "      <th>aw_odd</th>\n",
       "      <th>result</th>\n",
       "    </tr>\n",
       "  </thead>\n",
       "  <tbody>\n",
       "    <tr>\n",
       "      <th>0</th>\n",
       "      <td>1.09</td>\n",
       "      <td>13.70</td>\n",
       "      <td>26.00</td>\n",
       "      <td>1</td>\n",
       "    </tr>\n",
       "    <tr>\n",
       "      <th>1</th>\n",
       "      <td>2.05</td>\n",
       "      <td>3.66</td>\n",
       "      <td>3.68</td>\n",
       "      <td>1</td>\n",
       "    </tr>\n",
       "    <tr>\n",
       "      <th>2</th>\n",
       "      <td>1.23</td>\n",
       "      <td>6.79</td>\n",
       "      <td>13.30</td>\n",
       "      <td>0</td>\n",
       "    </tr>\n",
       "    <tr>\n",
       "      <th>3</th>\n",
       "      <td>1.89</td>\n",
       "      <td>3.83</td>\n",
       "      <td>4.13</td>\n",
       "      <td>0</td>\n",
       "    </tr>\n",
       "    <tr>\n",
       "      <th>4</th>\n",
       "      <td>4.07</td>\n",
       "      <td>3.88</td>\n",
       "      <td>1.89</td>\n",
       "      <td>0</td>\n",
       "    </tr>\n",
       "  </tbody>\n",
       "</table>\n",
       "</div>"
      ],
      "text/plain": [
       "   hm_odd  dw_odd  aw_odd  result\n",
       "0    1.09   13.70   26.00       1\n",
       "1    2.05    3.66    3.68       1\n",
       "2    1.23    6.79   13.30       0\n",
       "3    1.89    3.83    4.13       0\n",
       "4    4.07    3.88    1.89       0"
      ]
     },
     "execution_count": 20,
     "metadata": {},
     "output_type": "execute_result"
    }
   ],
   "source": [
    "df.drop(columns=['hm_sco','aw_sco'], inplace=True)\n",
    "df.head()"
   ]
  },
  {
   "cell_type": "markdown",
   "id": "6fdd74c0-38aa-4601-8d18-48f83704ae47",
   "metadata": {},
   "source": [
    "__<h3>Dealing with Duplicates</h3>__"
   ]
  },
  {
   "cell_type": "code",
   "execution_count": 21,
   "id": "aabc1b22-807c-4e7f-b458-634b14f4c04e",
   "metadata": {},
   "outputs": [],
   "source": [
    "duplicates=df[df.duplicated()==True]\n",
    "duplicates.to_csv('/Users/ERIA/Desktop/MATCH_DATA/OTHER_MATCH_DATA/duplicates.csv')"
   ]
  },
  {
   "cell_type": "code",
   "execution_count": 22,
   "id": "e2c3c0e9-0b54-4924-bf1f-a0aa44601e3f",
   "metadata": {},
   "outputs": [
    {
     "data": {
      "text/plain": [
       "(1553, 4)"
      ]
     },
     "execution_count": 22,
     "metadata": {},
     "output_type": "execute_result"
    }
   ],
   "source": [
    "df[df.duplicated()==True].shape"
   ]
  },
  {
   "cell_type": "code",
   "execution_count": 23,
   "id": "c239813f-f26b-4ca2-8f42-8f3dc73fa1f6",
   "metadata": {},
   "outputs": [],
   "source": [
    "df.drop_duplicates(inplace=True)"
   ]
  },
  {
   "cell_type": "code",
   "execution_count": 24,
   "id": "61b3d376-5991-49d1-bedd-af20a683e1a6",
   "metadata": {},
   "outputs": [
    {
     "data": {
      "text/plain": [
       "(7476, 4)"
      ]
     },
     "execution_count": 24,
     "metadata": {},
     "output_type": "execute_result"
    }
   ],
   "source": [
    "df.shape"
   ]
  },
  {
   "cell_type": "code",
   "execution_count": 25,
   "id": "598ae622-692d-488f-9858-2cdb92cc1883",
   "metadata": {},
   "outputs": [
    {
     "data": {
      "text/plain": [
       "0    4070\n",
       "1    3406\n",
       "Name: result, dtype: int64"
      ]
     },
     "execution_count": 25,
     "metadata": {},
     "output_type": "execute_result"
    }
   ],
   "source": [
    "df.result.value_counts()"
   ]
  },
  {
   "cell_type": "code",
   "execution_count": 26,
   "id": "8a6e9c4f-4632-4b94-8d25-d01d76a20407",
   "metadata": {},
   "outputs": [],
   "source": [
    "df.to_csv('/Users/ERIA/Desktop/MATCH_DATA/OTHER_MATCH_DATA/compiled_data.csv')"
   ]
  },
  {
   "cell_type": "markdown",
   "id": "57ca6e9a-3b0b-46c1-96a0-1ea02f1e9d4c",
   "metadata": {},
   "source": [
    "__<h3>OUTLIER DETECTION & REMOVAL</h3>__"
   ]
  },
  {
   "cell_type": "code",
   "execution_count": 27,
   "id": "3d46acbf-7c31-479b-b449-510197ff21ce",
   "metadata": {},
   "outputs": [
    {
     "data": {
      "text/plain": [
       "<AxesSubplot:>"
      ]
     },
     "execution_count": 27,
     "metadata": {},
     "output_type": "execute_result"
    },
    {
     "data": {
      "image/png": "[encoded data removed]",
      "text/plain": [
       "<Figure size 640x480 with 1 Axes>"
      ]
     },
     "metadata": {},
     "output_type": "display_data"
    }
   ],
   "source": [
    "sns.boxplot(data=df)"
   ]
  },
  {
   "cell_type": "markdown",
   "id": "b813ce7c-6f23-4a55-8d61-11de4ce2cf64",
   "metadata": {},
   "source": [
    "__<h4>Removal of Outliers</h4>__"
   ]
  },
  {
   "cell_type": "code",
   "execution_count": 28,
   "id": "13f7fcb0-221c-4b53-afae-bed6e4a5a11b",
   "metadata": {},
   "outputs": [
    {
     "data": {
      "text/plain": [
       "<AxesSubplot:>"
      ]
     },
     "execution_count": 28,
     "metadata": {},
     "output_type": "execute_result"
    },
    {
     "data": {
      "image/png": "[encoded data removed]",
      "text/plain": [
       "<Figure size 640x480 with 1 Axes>"
      ]
     },
     "metadata": {},
     "output_type": "display_data"
    }
   ],
   "source": [
    "df.hm_odd=np.where(df.hm_odd>4.5,np.nan, df.hm_odd)\n",
    "df.dw_odd=np.where(df.dw_odd>5,np.nan, df.dw_odd)\n",
    "df.aw_odd=np.where(df.aw_odd>6.6,np.nan, df.aw_odd)\n",
    "df2=df.dropna()\n",
    "df=df2\n",
    "sns.boxplot(data=df2)"
   ]
  },
  {
   "cell_type": "code",
   "execution_count": 29,
   "id": "a6540c2f-7aef-44a7-871e-f055ee2b1242",
   "metadata": {},
   "outputs": [
    {
     "data": {
      "text/plain": [
       "0    3175\n",
       "1    2578\n",
       "Name: result, dtype: int64"
      ]
     },
     "execution_count": 29,
     "metadata": {},
     "output_type": "execute_result"
    }
   ],
   "source": [
    "df.result.value_counts()"
   ]
  },
  {
   "cell_type": "markdown",
   "id": "a844d2d5-d2af-47cc-8b6c-2c26eb9acf1e",
   "metadata": {},
   "source": [
    "__<h2>MODEL DEVELOPMENT</h2>__\n",
    "__<h3>Determining the Best Model</h3>__"
   ]
  },
  {
   "cell_type": "code",
   "execution_count": 31,
   "id": "4e65ec24-4bba-4921-92e4-4d9a6a1f836b",
   "metadata": {},
   "outputs": [
    {
     "name": "stderr",
     "output_type": "stream",
     "text": [
      "100%|██████████| 29/29 [00:07<00:00,  3.90it/s]"
     ]
    },
    {
     "name": "stdout",
     "output_type": "stream",
     "text": [
      "                               Accuracy  Balanced Accuracy  ROC AUC  F1 Score  \\\n",
      "Model                                                                           \n",
      "CalibratedClassifierCV             0.63               0.61     0.61      0.62   \n",
      "LinearDiscriminantAnalysis         0.63               0.61     0.61      0.62   \n",
      "LinearSVC                          0.63               0.61     0.61      0.62   \n",
      "RidgeClassifier                    0.63               0.61     0.61      0.62   \n",
      "LogisticRegression                 0.63               0.61     0.61      0.62   \n",
      "RidgeClassifierCV                  0.63               0.61     0.61      0.62   \n",
      "NearestCentroid                    0.61               0.61     0.61      0.61   \n",
      "GaussianNB                         0.62               0.61     0.61      0.62   \n",
      "SVC                                0.62               0.61     0.61      0.61   \n",
      "BernoulliNB                        0.61               0.60     0.60      0.61   \n",
      "QuadraticDiscriminantAnalysis      0.62               0.60     0.60      0.61   \n",
      "LabelPropagation                   0.61               0.60     0.60      0.60   \n",
      "AdaBoostClassifier                 0.60               0.59     0.59      0.60   \n",
      "LabelSpreading                     0.61               0.59     0.59      0.60   \n",
      "SGDClassifier                      0.59               0.59     0.59      0.59   \n",
      "LGBMClassifier                     0.56               0.55     0.55      0.56   \n",
      "XGBClassifier                      0.55               0.54     0.54      0.55   \n",
      "KNeighborsClassifier               0.55               0.54     0.54      0.54   \n",
      "ExtraTreesClassifier               0.54               0.53     0.53      0.53   \n",
      "RandomForestClassifier             0.53               0.52     0.52      0.53   \n",
      "BaggingClassifier                  0.53               0.51     0.51      0.52   \n",
      "ExtraTreeClassifier                0.52               0.51     0.51      0.51   \n",
      "DummyClassifier                    0.50               0.50     0.50      0.50   \n",
      "DecisionTreeClassifier             0.50               0.49     0.49      0.50   \n",
      "NuSVC                              0.48               0.48     0.48      0.48   \n",
      "PassiveAggressiveClassifier        0.44               0.47     0.47      0.38   \n",
      "Perceptron                         0.47               0.46     0.46      0.47   \n",
      "\n",
      "                               Time Taken  \n",
      "Model                                      \n",
      "CalibratedClassifierCV               0.78  \n",
      "LinearDiscriminantAnalysis           0.06  \n",
      "LinearSVC                            0.24  \n",
      "RidgeClassifier                      0.04  \n",
      "LogisticRegression                   0.05  \n",
      "RidgeClassifierCV                    0.04  \n",
      "NearestCentroid                      0.03  \n",
      "GaussianNB                           0.02  \n",
      "SVC                                  0.82  \n",
      "BernoulliNB                          0.03  \n",
      "QuadraticDiscriminantAnalysis        0.02  \n",
      "LabelPropagation                     0.68  \n",
      "AdaBoostClassifier                   0.34  \n",
      "LabelSpreading                       1.24  \n",
      "SGDClassifier                        0.05  \n",
      "LGBMClassifier                       0.27  \n",
      "XGBClassifier                        0.32  \n",
      "KNeighborsClassifier                 0.11  \n",
      "ExtraTreesClassifier                 0.51  \n",
      "RandomForestClassifier               0.66  \n",
      "BaggingClassifier                    0.14  \n",
      "ExtraTreeClassifier                  0.02  \n",
      "DummyClassifier                      0.02  \n",
      "DecisionTreeClassifier               0.03  \n",
      "NuSVC                                0.82  \n",
      "PassiveAggressiveClassifier          0.03  \n",
      "Perceptron                           0.02  \n"
     ]
    },
    {
     "name": "stderr",
     "output_type": "stream",
     "text": [
      "\n"
     ]
    }
   ],
   "source": [
    "import lazypredict\n",
    "from sklearn.model_selection import train_test_split\n",
    "from lazypredict.Supervised import LazyClassifier\n",
    "\n",
    "X=df.drop('result', axis=1)\n",
    "y=df['result']\n",
    "\n",
    "x_train, x_test, y_train, y_test=train_test_split(X,y,test_size=0.3, stratify=y)\n",
    "\n",
    "clf = LazyClassifier(verbose=0,ignore_warnings=True, custom_metric=None)\n",
    "models,predictions = clf.fit(x_train, x_test, y_train, y_test)\n",
    "\n",
    "print(models)"
   ]
  },
  {
   "cell_type": "markdown",
   "id": "41d0e4b3-affe-406f-8215-78a51556c8a0",
   "metadata": {},
   "source": [
    "__<h2>LOGISTIC REGRESSION</h2>__"
   ]
  },
  {
   "cell_type": "code",
   "execution_count": 32,
   "id": "99408ed7-cef4-4c06-add4-f7eec6b0730c",
   "metadata": {},
   "outputs": [
    {
     "name": "stdout",
     "output_type": "stream",
     "text": [
      "0.6251448435689455\n",
      "              precision    recall  f1-score   support\n",
      "\n",
      "           0       0.64      0.75      0.69       953\n",
      "           1       0.60      0.48      0.53       773\n",
      "\n",
      "    accuracy                           0.63      1726\n",
      "   macro avg       0.62      0.61      0.61      1726\n",
      "weighted avg       0.62      0.63      0.62      1726\n",
      "\n"
     ]
    }
   ],
   "source": [
    "from sklearn.linear_model import LogisticRegression\n",
    "from sklearn.metrics import accuracy_score, classification_report\n",
    "\n",
    "model_lr=LogisticRegression()\n",
    "\n",
    "model_lr.fit(x_train,y_train)\n",
    "y_pred=model_lr.predict(x_test)\n",
    "print(accuracy_score(y_test,y_pred))\n",
    "print(classification_report(y_test,y_pred))"
   ]
  },
  {
   "cell_type": "code",
   "execution_count": 33,
   "id": "f9441ec2-495b-4811-8c29-f7fa522b8723",
   "metadata": {},
   "outputs": [
    {
     "data": {
      "text/plain": [
       "array([0.61538462, 0.5955335 , 0.56575682, 0.57568238, 0.63771712,\n",
       "       0.62779156, 0.64764268, 0.59701493, 0.60447761, 0.5920398 ])"
      ]
     },
     "execution_count": 33,
     "metadata": {},
     "output_type": "execute_result"
    }
   ],
   "source": [
    "from sklearn.model_selection import cross_val_score\n",
    "accuracies=cross_val_score(estimator=model_lr, X=x_train, y=y_train, cv=10, n_jobs=-1)\n",
    "accuracies"
   ]
  },
  {
   "cell_type": "markdown",
   "id": "e788ff6b-1cd3-4f4d-8111-e5ebee419404",
   "metadata": {
    "tags": []
   },
   "source": [
    "__<h3>FINE TUNING THE MODEL</h3>__"
   ]
  },
  {
   "cell_type": "code",
   "execution_count": null,
   "id": "b72ead20-f26e-4e12-ba89-005fba23b4d2",
   "metadata": {
    "jupyter": {
     "source_hidden": true
    },
    "tags": []
   },
   "outputs": [],
   "source": [
    "from sklearn.model_selection import GridSearchCV\n",
    "from sklearn.model_selection import RepeatedStratifiedKFold\n",
    "\n",
    "\n",
    "param_grid = [    \n",
    "    {'penalty' : [ 'l2', ],\n",
    "    'C' : np.logspace(-4, 4, 20),\n",
    "    'solver' : ['lbfgs','newton-cg','liblinear','sag','saga'],\n",
    "    'max_iter' : [100, 1000,2500, 5000]\n",
    "    }\n",
    "]\n",
    "\n",
    "cv = RepeatedStratifiedKFold(n_splits=10, n_repeats=3, random_state=1)\n",
    "\n"
   ]
  },
  {
   "cell_type": "code",
   "execution_count": null,
   "id": "f99b2c26-adee-47f5-ade6-905e1bc8bfdc",
   "metadata": {
    "jupyter": {
     "source_hidden": true
    },
    "tags": []
   },
   "outputs": [],
   "source": [
    "clf= GridSearchCV(model_lr, param_grid = param_grid, cv = 3, verbose=False,\n",
    "                  n_jobs=-1,scoring='accuracy',error_score=0)\n"
   ]
  },
  {
   "cell_type": "code",
   "execution_count": null,
   "id": "81d80e0c-6887-41b0-a796-ce546cd74669",
   "metadata": {
    "jupyter": {
     "source_hidden": true
    },
    "scrolled": true,
    "tags": []
   },
   "outputs": [],
   "source": [
    "best_clf = clf.fit(x_train,y_train)\n",
    "best_clf.best_params_"
   ]
  },
  {
   "cell_type": "code",
   "execution_count": null,
   "id": "83ebc377-97fc-48e9-9b12-b84c52c486a2",
   "metadata": {
    "jupyter": {
     "source_hidden": true
    },
    "tags": []
   },
   "outputs": [],
   "source": [
    "model_lr=LogisticRegression(penalty=best_clf.best_params_['penalty'],\n",
    "                           C=best_clf.best_params_['C'],\n",
    "                           max_iter=best_clf.best_params_['max_iter'],\n",
    "                           solver=best_clf.best_params_['solver'])"
   ]
  },
  {
   "cell_type": "code",
   "execution_count": null,
   "id": "b08daf2e-6c9f-469b-a53c-2aace9e31aaa",
   "metadata": {
    "jupyter": {
     "source_hidden": true
    },
    "tags": []
   },
   "outputs": [],
   "source": [
    "best_clf.best_params_['penalty']"
   ]
  },
  {
   "cell_type": "code",
   "execution_count": null,
   "id": "fc27ed14-6ea2-4049-8163-bede5662ae52",
   "metadata": {
    "jupyter": {
     "source_hidden": true
    },
    "tags": []
   },
   "outputs": [],
   "source": [
    "model_lr.fit(x_train,y_train)\n",
    "y_pred=model_lr.predict(x_test)\n",
    "print(accuracy_score(y_test,y_pred))\n",
    "print(classification_report(y_test,y_pred))"
   ]
  },
  {
   "cell_type": "markdown",
   "id": "7da9175d-4f26-4b01-b92d-de8f1e15fc27",
   "metadata": {},
   "source": [
    "__<h3>CONFUSION MATRIX</h3>__"
   ]
  },
  {
   "cell_type": "code",
   "execution_count": 34,
   "id": "a255d66a-62dc-4eba-b847-a7938c9e87b2",
   "metadata": {},
   "outputs": [
    {
     "name": "stdout",
     "output_type": "stream",
     "text": [
      "[[710 243]\n",
      " [404 369]]\n"
     ]
    }
   ],
   "source": [
    "from sklearn.metrics import confusion_matrix\n",
    "print(confusion_matrix(y_test,y_pred))\n",
    "cm=confusion_matrix(y_test,y_pred)"
   ]
  },
  {
   "cell_type": "code",
   "execution_count": 35,
   "id": "fa983ec0-b216-4c8c-a6df-0ea9d90f5ff8",
   "metadata": {},
   "outputs": [
    {
     "name": "stdout",
     "output_type": "stream",
     "text": [
      "              precision    recall  f1-score   support\n",
      "\n",
      "           0       0.64      0.75      0.69       953\n",
      "           1       0.60      0.48      0.53       773\n",
      "\n",
      "    accuracy                           0.63      1726\n",
      "   macro avg       0.62      0.61      0.61      1726\n",
      "weighted avg       0.62      0.63      0.62      1726\n",
      "\n"
     ]
    },
    {
     "data": {
      "image/png": "[encoded data removed]",
      "text/plain": [
       "<Figure size 640x480 with 2 Axes>"
      ]
     },
     "metadata": {},
     "output_type": "display_data"
    }
   ],
   "source": [
    "from sklearn.metrics import confusion_matrix, ConfusionMatrixDisplay\n",
    "def custom_confusion_matrix(y_test, y_pred, display_labels=None):\n",
    "\n",
    "    \"\"\"\n",
    "    A function to plot a custom confusion matrix with\n",
    "    x2 (away double chance) class as the first row and the first column.\n",
    "    \"\"\"\n",
    "    # Create a  matrix\n",
    "    cm = (confusion_matrix(y_test, y_pred))\n",
    "    # Create the plot\n",
    "    #fig, ax = plt.subplots(figsize=(8, 5))\n",
    "    cmp = ConfusionMatrixDisplay(cm, display_labels=display_labels)\n",
    "\n",
    "    cmp.plot()\n",
    "    #cmp.plot(ax=ax)\n",
    "\n",
    "custom_confusion_matrix(\n",
    "  y_test, y_pred,display_labels=['0', '1'] \n",
    "  \n",
    ")\n",
    "print(classification_report(y_test,y_pred))"
   ]
  },
  {
   "cell_type": "markdown",
   "id": "761f41b5-9378-4eb8-a941-2a916cae9f2d",
   "metadata": {},
   "source": [
    "__<h3>Interpreting the confusion matrix using class 0 (the negative class)</h3>__\n",
    "- Precision: Of all the negatives the model has predicted, how many of those are actually negative \n",
    "    - precision = TN/(TN+FN) = 582(582+328)= 0.64\n",
    "- Recall: Of all existing negatives in the dataset, how many did the model correctly identify as negative    \n",
    "    - recall= TN/(TN+FP) = 582(582+184)= 0.76"
   ]
  },
  {
   "cell_type": "markdown",
   "id": "10018b00-f4d2-4db3-8d81-6cf1ec4fbb7b",
   "metadata": {},
   "source": [
    "__<h3>TESTING  MODEL ON NEW DATA</h3>__"
   ]
  },
  {
   "cell_type": "code",
   "execution_count": 36,
   "id": "e17a1acd-1bc8-42b9-9387-2b041db83137",
   "metadata": {
    "tags": []
   },
   "outputs": [
    {
     "data": {
      "text/html": [
       "<div>\n",
       "<style scoped>\n",
       "    .dataframe tbody tr th:only-of-type {\n",
       "        vertical-align: middle;\n",
       "    }\n",
       "\n",
       "    .dataframe tbody tr th {\n",
       "        vertical-align: top;\n",
       "    }\n",
       "\n",
       "    .dataframe thead th {\n",
       "        text-align: right;\n",
       "    }\n",
       "</style>\n",
       "<table border=\"1\" class=\"dataframe\">\n",
       "  <thead>\n",
       "    <tr style=\"text-align: right;\">\n",
       "      <th></th>\n",
       "      <th>hm_odd</th>\n",
       "      <th>dw_odd</th>\n",
       "      <th>aw_odd</th>\n",
       "      <th>result</th>\n",
       "    </tr>\n",
       "  </thead>\n",
       "  <tbody>\n",
       "    <tr>\n",
       "      <th>0</th>\n",
       "      <td>2.26</td>\n",
       "      <td>3.15</td>\n",
       "      <td>3.36</td>\n",
       "      <td>1</td>\n",
       "    </tr>\n",
       "    <tr>\n",
       "      <th>1</th>\n",
       "      <td>2.40</td>\n",
       "      <td>3.13</td>\n",
       "      <td>3.00</td>\n",
       "      <td>0</td>\n",
       "    </tr>\n",
       "    <tr>\n",
       "      <th>2</th>\n",
       "      <td>2.93</td>\n",
       "      <td>2.94</td>\n",
       "      <td>2.65</td>\n",
       "      <td>0</td>\n",
       "    </tr>\n",
       "    <tr>\n",
       "      <th>3</th>\n",
       "      <td>3.82</td>\n",
       "      <td>3.29</td>\n",
       "      <td>2.03</td>\n",
       "      <td>1</td>\n",
       "    </tr>\n",
       "  </tbody>\n",
       "</table>\n",
       "</div>"
      ],
      "text/plain": [
       "   hm_odd  dw_odd  aw_odd  result\n",
       "0    2.26    3.15    3.36       1\n",
       "1    2.40    3.13    3.00       0\n",
       "2    2.93    2.94    2.65       0\n",
       "3    3.82    3.29    2.03       1"
      ]
     },
     "execution_count": 36,
     "metadata": {},
     "output_type": "execute_result"
    }
   ],
   "source": [
    "df3=pd.read_csv('/Users/ERIA/Desktop/test_data2.csv')\n",
    "#df3.drop(columns=['Unnamed: 0'],axis=1,inplace=True)\n",
    "df3.head()"
   ]
  },
  {
   "cell_type": "code",
   "execution_count": 37,
   "id": "6c5e3849-728d-4a90-9313-bc2f63121cd5",
   "metadata": {},
   "outputs": [
    {
     "data": {
      "text/html": [
       "<div>\n",
       "<style scoped>\n",
       "    .dataframe tbody tr th:only-of-type {\n",
       "        vertical-align: middle;\n",
       "    }\n",
       "\n",
       "    .dataframe tbody tr th {\n",
       "        vertical-align: top;\n",
       "    }\n",
       "\n",
       "    .dataframe thead th {\n",
       "        text-align: right;\n",
       "    }\n",
       "</style>\n",
       "<table border=\"1\" class=\"dataframe\">\n",
       "  <thead>\n",
       "    <tr style=\"text-align: right;\">\n",
       "      <th></th>\n",
       "      <th>hm_odd</th>\n",
       "      <th>dw_odd</th>\n",
       "      <th>aw_odd</th>\n",
       "    </tr>\n",
       "  </thead>\n",
       "  <tbody>\n",
       "    <tr>\n",
       "      <th>0</th>\n",
       "      <td>2.26</td>\n",
       "      <td>3.15</td>\n",
       "      <td>3.36</td>\n",
       "    </tr>\n",
       "    <tr>\n",
       "      <th>1</th>\n",
       "      <td>2.40</td>\n",
       "      <td>3.13</td>\n",
       "      <td>3.00</td>\n",
       "    </tr>\n",
       "    <tr>\n",
       "      <th>2</th>\n",
       "      <td>2.93</td>\n",
       "      <td>2.94</td>\n",
       "      <td>2.65</td>\n",
       "    </tr>\n",
       "    <tr>\n",
       "      <th>3</th>\n",
       "      <td>3.82</td>\n",
       "      <td>3.29</td>\n",
       "      <td>2.03</td>\n",
       "    </tr>\n",
       "  </tbody>\n",
       "</table>\n",
       "</div>"
      ],
      "text/plain": [
       "   hm_odd  dw_odd  aw_odd\n",
       "0    2.26    3.15    3.36\n",
       "1    2.40    3.13    3.00\n",
       "2    2.93    2.94    2.65\n",
       "3    3.82    3.29    2.03"
      ]
     },
     "execution_count": 37,
     "metadata": {},
     "output_type": "execute_result"
    }
   ],
   "source": [
    "x_test2=df3.iloc[:,:3]\n",
    "x_test2"
   ]
  },
  {
   "cell_type": "code",
   "execution_count": 38,
   "id": "86abb73b-74e1-4775-aac3-3a47ca7ccb25",
   "metadata": {},
   "outputs": [
    {
     "name": "stdout",
     "output_type": "stream",
     "text": [
      "actual values   ---> [1, 0, 0, 1]\n",
      "predicted values --> [0, 0, 0, 0]\n"
     ]
    }
   ],
   "source": [
    "y_pred2=model_lr.predict(x_test2)\n",
    "print('actual values   --->',list(np.array(df3.result)))\n",
    "print('predicted values -->',list(np.array(y_pred2)))"
   ]
  },
  {
   "cell_type": "code",
   "execution_count": null,
   "id": "8123a05e-4498-41e0-9452-51d0b47fd803",
   "metadata": {},
   "outputs": [],
   "source": []
  }
 ],
 "metadata": {
  "kernelspec": {
   "display_name": "Python 3 (ipykernel)",
   "language": "python",
   "name": "python3"
  },
  "language_info": {
   "codemirror_mode": {
    "name": "ipython",
    "version": 3
   },
   "file_extension": ".py",
   "mimetype": "text/x-python",
   "name": "python",
   "nbconvert_exporter": "python",
   "pygments_lexer": "ipython3",
   "version": "3.8.13"
  }
 },
 "nbformat": 4,
 "nbformat_minor": 5
}
