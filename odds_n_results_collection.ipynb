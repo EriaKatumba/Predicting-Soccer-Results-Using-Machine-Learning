{
 "cells": [
  {
   "cell_type": "code",
   "execution_count": null,
   "id": "99a620c2-89eb-4d16-9841-a03498136131",
   "metadata": {},
   "outputs": [],
   "source": []
  },
  {
   "cell_type": "code",
   "execution_count": 1,
   "id": "93228999-0fa3-4d57-b0e1-57536e762e73",
   "metadata": {},
   "outputs": [],
   "source": [
    "#scrappers\n",
    "from selenium import webdriver\n",
    "from selenium.webdriver.common.keys import Keys\n",
    "from selenium.common.exceptions import NoSuchElementException\n",
    "from selenium.common.exceptions import SessionNotCreatedException\n",
    "from selenium.webdriver.common.by import By\n",
    "from selenium.webdriver.support.ui import WebDriverWait\n",
    "from selenium.webdriver.support import expected_conditions\n",
    "from selenium.webdriver.chrome.options import Options\n",
    "from tqdm import tqdm\n",
    "\n",
    "\n",
    "#other modules\n",
    "import time, re\n",
    "import os, pandas as pd, numpy as np\n",
    "\n",
    "#filter warnings\n",
    "import warnings\n",
    "warnings.filterwarnings('ignore')"
   ]
  },
  {
   "cell_type": "code",
   "execution_count": 2,
   "id": "380eabb8-ae83-46ce-9434-23b7029f2e3f",
   "metadata": {
    "scrolled": true,
    "tags": []
   },
   "outputs": [],
   "source": [
    "#driver=webdriver.Chrome('/Users/ERIA/Library/Application Support/WebDriverManager/bin/chromedriver')\n",
    "driver=webdriver.Chrome('/Users/ERIA/chromedriver')\n",
    "driver.get('https://www.flashscore.com/')\n",
    "driver.maximize_window()"
   ]
  },
  {
   "cell_type": "code",
   "execution_count": 3,
   "id": "2c0a655a-f573-47e4-bea0-ab3b0e048938",
   "metadata": {},
   "outputs": [],
   "source": [
    "#accepting cookies\n",
    "time.sleep(3)\n",
    "driver.find_element(By.XPATH,'//*[@id=\"onetrust-accept-btn-handler\"]').click()"
   ]
  },
  {
   "cell_type": "code",
   "execution_count": 4,
   "id": "5e225869-ee80-4482-9067-24f5189267eb",
   "metadata": {},
   "outputs": [],
   "source": [
    "#click odds button\n",
    "driver.find_element(By.XPATH,'//*[@id=\"live-table\"]/div[1]/div[1]/div[3]').click()"
   ]
  },
  {
   "cell_type": "code",
   "execution_count": 5,
   "id": "9928a909-18bb-41e6-aafd-a09a94e50738",
   "metadata": {},
   "outputs": [],
   "source": [
    "#days x_paths list\n",
    "\n",
    "day_xpaths=['//*[@id=\"live-table\"]/div[1]/div[2]/div/div[4]/div[7]','//*[@id=\"live-table\"]/div[1]/div[2]/div/div[4]/div[6]',\n",
    "            '//*[@id=\"live-table\"]/div[1]/div[2]/div/div[4]/div[5]','//*[@id=\"live-table\"]/div[1]/div[2]/div/div[4]/div[4]',\n",
    "            '//*[@id=\"live-table\"]/div[1]/div[2]/div/div[4]/div[3]','//*[@id=\"live-table\"]/div[1]/div[2]/div/div[4]/div[2]',\n",
    "            '//*[@id=\"live-table\"]/div[1]/div[2]/div/div[4]/div[1]']\n"
   ]
  },
  {
   "cell_type": "code",
   "execution_count": 6,
   "id": "8859293f-f458-4c03-a07f-114f3d840e07",
   "metadata": {},
   "outputs": [],
   "source": [
    "#click date picker button\n",
    "driver.find_element(By.XPATH,'//*[@id=\"live-table\"]/div[1]/div[2]/div/div[2]').click()\n",
    "\n",
    "#click specific day\n",
    "driver.find_element(By.XPATH,day_xpaths[0]).click()"
   ]
  },
  {
   "cell_type": "code",
   "execution_count": 7,
   "id": "e077a2ab-029a-4989-8fb1-d24e06f28237",
   "metadata": {},
   "outputs": [],
   "source": [
    "#write path (file to store collected data)\n",
    "write_path='/Users/ERIA/Desktop/last7days.csv'"
   ]
  },
  {
   "cell_type": "markdown",
   "id": "67113467-2259-47ad-b4bc-2bde6f595995",
   "metadata": {},
   "source": [
    "<h2>ODDS</h2>"
   ]
  },
  {
   "cell_type": "code",
   "execution_count": 8,
   "id": "49de78ab-cee9-4a19-8424-c10555a4bdbe",
   "metadata": {},
   "outputs": [],
   "source": [
    "time.sleep(5)"
   ]
  },
  {
   "cell_type": "code",
   "execution_count": 9,
   "id": "b538359a-8a91-4046-a002-61765471efdf",
   "metadata": {},
   "outputs": [
    {
     "name": "stderr",
     "output_type": "stream",
     "text": [
      "100%|██████████| 314/314 [00:06<00:00, 50.78it/s]"
     ]
    },
    {
     "name": "stdout",
     "output_type": "stream",
     "text": [
      "314\n",
      "['2.01', '2.71', '3.16', '2.20', '3.86', '1.81', '2.09']\n",
      "CPU times: user 470 ms, sys: 84.4 ms, total: 555 ms\n",
      "Wall time: 7.95 s\n"
     ]
    },
    {
     "name": "stderr",
     "output_type": "stream",
     "text": [
      "\n"
     ]
    }
   ],
   "source": [
    "%%time\n",
    "#home odds\n",
    "home_odd=[]\n",
    "\n",
    "h_odd_ob=driver.find_elements(By.CSS_SELECTOR,'div.odds__odd.event__odd--odd1.win.icon.icon--arrow')\n",
    "for ho in tqdm(h_odd_ob):\n",
    "    home_odd.append(ho.text)\n",
    "print(len(home_odd))\n",
    "print(home_odd[:7])"
   ]
  },
  {
   "cell_type": "code",
   "execution_count": 10,
   "id": "21437536-fd15-4029-9a44-757910befd2a",
   "metadata": {},
   "outputs": [
    {
     "name": "stderr",
     "output_type": "stream",
     "text": [
      "100%|██████████| 1013/1013 [00:27<00:00, 36.84it/s]"
     ]
    },
    {
     "name": "stdout",
     "output_type": "stream",
     "text": [
      "1013\n",
      "['3.56', '3.60', '3.85', '3.12', '3.46', '3.47', '3.54', '3.98', '3.70', '3.44']\n"
     ]
    },
    {
     "name": "stderr",
     "output_type": "stream",
     "text": [
      "\n"
     ]
    }
   ],
   "source": [
    "\n",
    "#draw odds\n",
    "draw_odd=[]\n",
    "\n",
    "d_odd_ob=driver.find_elements(By.CSS_SELECTOR,'div.odds__odd.event__odd--odd2.icon.icon--arrow')\n",
    "for do in tqdm(d_odd_ob):\n",
    "    try:\n",
    "        draw_odd.append(do.text)\n",
    "    except:\n",
    "        continue\n",
    "print(len(draw_odd))\n",
    "print(draw_odd[:10])"
   ]
  },
  {
   "cell_type": "code",
   "execution_count": 11,
   "id": "7b0786cc-bd47-4228-8801-a1e8c867318f",
   "metadata": {},
   "outputs": [
    {
     "name": "stderr",
     "output_type": "stream",
     "text": [
      "100%|██████████| 1013/1013 [00:47<00:00, 21.42it/s]"
     ]
    },
    {
     "name": "stdout",
     "output_type": "stream",
     "text": [
      "1013\n",
      "['3.95', '2.71', '1.94', '3.05', '2.93', '2.35', '2.19']\n"
     ]
    },
    {
     "name": "stderr",
     "output_type": "stream",
     "text": [
      "\n"
     ]
    }
   ],
   "source": [
    "\n",
    "#away odds\n",
    "away_odd=[]\n",
    "a_odd_ob=driver.find_elements(By.CSS_SELECTOR,'div.odds__odd.event__odd--odd3.icon.icon--arrow')\n",
    "for ao in tqdm(a_odd_ob):\n",
    "    away_odd.append(ao.text)\n",
    "print(len(away_odd))\n",
    "print(away_odd[:7])"
   ]
  },
  {
   "cell_type": "markdown",
   "id": "812ff11c-3cf5-4de8-b151-750700d39b33",
   "metadata": {},
   "source": [
    "We'll keep just the first 314 odds for draw and away data using [:314] since it's what has been collected for home. In otherwords to have the same number of records in each list"
   ]
  },
  {
   "cell_type": "code",
   "execution_count": 12,
   "id": "344c384e-1a8d-4613-bf3e-c9a51bb1aadb",
   "metadata": {},
   "outputs": [
    {
     "data": {
      "text/html": [
       "<div>\n",
       "<style scoped>\n",
       "    .dataframe tbody tr th:only-of-type {\n",
       "        vertical-align: middle;\n",
       "    }\n",
       "\n",
       "    .dataframe tbody tr th {\n",
       "        vertical-align: top;\n",
       "    }\n",
       "\n",
       "    .dataframe thead th {\n",
       "        text-align: right;\n",
       "    }\n",
       "</style>\n",
       "<table border=\"1\" class=\"dataframe\">\n",
       "  <thead>\n",
       "    <tr style=\"text-align: right;\">\n",
       "      <th></th>\n",
       "      <th>home</th>\n",
       "      <th>draw</th>\n",
       "      <th>away</th>\n",
       "    </tr>\n",
       "  </thead>\n",
       "  <tbody>\n",
       "    <tr>\n",
       "      <th>0</th>\n",
       "      <td>2.01</td>\n",
       "      <td>3.56</td>\n",
       "      <td>3.95</td>\n",
       "    </tr>\n",
       "    <tr>\n",
       "      <th>1</th>\n",
       "      <td>2.71</td>\n",
       "      <td>3.60</td>\n",
       "      <td>2.71</td>\n",
       "    </tr>\n",
       "    <tr>\n",
       "      <th>2</th>\n",
       "      <td>3.16</td>\n",
       "      <td>3.85</td>\n",
       "      <td>1.94</td>\n",
       "    </tr>\n",
       "    <tr>\n",
       "      <th>3</th>\n",
       "      <td>2.20</td>\n",
       "      <td>3.12</td>\n",
       "      <td>3.05</td>\n",
       "    </tr>\n",
       "    <tr>\n",
       "      <th>4</th>\n",
       "      <td>3.86</td>\n",
       "      <td>3.46</td>\n",
       "      <td>2.93</td>\n",
       "    </tr>\n",
       "    <tr>\n",
       "      <th>...</th>\n",
       "      <td>...</td>\n",
       "      <td>...</td>\n",
       "      <td>...</td>\n",
       "    </tr>\n",
       "    <tr>\n",
       "      <th>309</th>\n",
       "      <td>1.82</td>\n",
       "      <td>4.10</td>\n",
       "      <td>1.66</td>\n",
       "    </tr>\n",
       "    <tr>\n",
       "      <th>310</th>\n",
       "      <td>1.64</td>\n",
       "      <td>-</td>\n",
       "      <td>-</td>\n",
       "    </tr>\n",
       "    <tr>\n",
       "      <th>311</th>\n",
       "      <td>1.46</td>\n",
       "      <td>3.38</td>\n",
       "      <td>4.94</td>\n",
       "    </tr>\n",
       "    <tr>\n",
       "      <th>312</th>\n",
       "      <td>1.64</td>\n",
       "      <td>3.51</td>\n",
       "      <td>4.34</td>\n",
       "    </tr>\n",
       "    <tr>\n",
       "      <th>313</th>\n",
       "      <td>1.56</td>\n",
       "      <td>4.46</td>\n",
       "      <td>5.45</td>\n",
       "    </tr>\n",
       "  </tbody>\n",
       "</table>\n",
       "<p>314 rows × 3 columns</p>\n",
       "</div>"
      ],
      "text/plain": [
       "     home  draw  away\n",
       "0    2.01  3.56  3.95\n",
       "1    2.71  3.60  2.71\n",
       "2    3.16  3.85  1.94\n",
       "3    2.20  3.12  3.05\n",
       "4    3.86  3.46  2.93\n",
       "..    ...   ...   ...\n",
       "309  1.82  4.10  1.66\n",
       "310  1.64     -     -\n",
       "311  1.46  3.38  4.94\n",
       "312  1.64  3.51  4.34\n",
       "313  1.56  4.46  5.45\n",
       "\n",
       "[314 rows x 3 columns]"
      ]
     },
     "execution_count": 12,
     "metadata": {},
     "output_type": "execute_result"
    }
   ],
   "source": [
    "#odds_df=pd.DataFrame({'home':home_odd[:300],'draw':draw_odd[:300],'away':away_odd})\n",
    "odds_df=pd.DataFrame({'home':home_odd,'draw':draw_odd[:314],'away':away_odd[:314]})\n",
    "odds_df"
   ]
  },
  {
   "cell_type": "markdown",
   "id": "cc971ec3-ac1b-466d-88f4-3a8f249c4d36",
   "metadata": {},
   "source": [
    "<h2>RESULTS</h2>"
   ]
  },
  {
   "cell_type": "code",
   "execution_count": 13,
   "id": "c258441e-0500-4bd9-a858-083baffb186f",
   "metadata": {},
   "outputs": [],
   "source": [
    "#results\n",
    "home_scores_obj=driver.find_elements(By.CSS_SELECTOR,'div.event__score.event__score--home')\n",
    "away_scores_obj=driver.find_elements(By.CSS_SELECTOR,'div.event__score.event__score--away')\n",
    "home_scores=[]\n",
    "away_scores=[]"
   ]
  },
  {
   "cell_type": "code",
   "execution_count": 14,
   "id": "a92c045b-f8c1-4771-99fc-590781f16bde",
   "metadata": {},
   "outputs": [
    {
     "name": "stderr",
     "output_type": "stream",
     "text": [
      "100%|██████████| 996/996 [00:39<00:00, 24.94it/s]"
     ]
    },
    {
     "name": "stdout",
     "output_type": "stream",
     "text": [
      "996\n"
     ]
    },
    {
     "name": "stderr",
     "output_type": "stream",
     "text": [
      "\n"
     ]
    },
    {
     "data": {
      "text/plain": [
       "['5', '3', '1', '0', '1', '2', '1']"
      ]
     },
     "execution_count": 14,
     "metadata": {},
     "output_type": "execute_result"
    }
   ],
   "source": [
    "for h in tqdm(home_scores_obj):\n",
    "    home_scores.append(h.text)\n",
    "print(len(home_scores))\n",
    "home_scores[:7]"
   ]
  },
  {
   "cell_type": "code",
   "execution_count": 15,
   "id": "bfcb4208-cdab-4f0d-ba85-4d62a7f9be8b",
   "metadata": {},
   "outputs": [
    {
     "name": "stderr",
     "output_type": "stream",
     "text": [
      "100%|██████████| 996/996 [00:28<00:00, 34.84it/s]"
     ]
    },
    {
     "name": "stdout",
     "output_type": "stream",
     "text": [
      "996\n",
      "['2', '1', '3', '1', '1', '0', '1']\n"
     ]
    },
    {
     "name": "stderr",
     "output_type": "stream",
     "text": [
      "\n"
     ]
    }
   ],
   "source": [
    "for a in tqdm(away_scores_obj):\n",
    "    away_scores.append(a.text)\n",
    "print(len(away_scores))\n",
    "print(away_scores[:7])"
   ]
  },
  {
   "cell_type": "code",
   "execution_count": 16,
   "id": "34dde151-5d7a-4ec1-b981-5292ef348d6f",
   "metadata": {},
   "outputs": [
    {
     "data": {
      "text/plain": [
       "(996, 2)"
      ]
     },
     "execution_count": 16,
     "metadata": {},
     "output_type": "execute_result"
    }
   ],
   "source": [
    "results_df=pd.DataFrame({'h':home_scores, 'a':away_scores})\n",
    "results_df.shape"
   ]
  },
  {
   "cell_type": "code",
   "execution_count": 17,
   "id": "6032f88e-5693-4572-8969-2bc0909d5922",
   "metadata": {},
   "outputs": [
    {
     "data": {
      "text/html": [
       "<div>\n",
       "<style scoped>\n",
       "    .dataframe tbody tr th:only-of-type {\n",
       "        vertical-align: middle;\n",
       "    }\n",
       "\n",
       "    .dataframe tbody tr th {\n",
       "        vertical-align: top;\n",
       "    }\n",
       "\n",
       "    .dataframe thead th {\n",
       "        text-align: right;\n",
       "    }\n",
       "</style>\n",
       "<table border=\"1\" class=\"dataframe\">\n",
       "  <thead>\n",
       "    <tr style=\"text-align: right;\">\n",
       "      <th></th>\n",
       "      <th>home</th>\n",
       "      <th>draw</th>\n",
       "      <th>away</th>\n",
       "      <th>h</th>\n",
       "      <th>a</th>\n",
       "    </tr>\n",
       "  </thead>\n",
       "  <tbody>\n",
       "    <tr>\n",
       "      <th>0</th>\n",
       "      <td>2.01</td>\n",
       "      <td>3.56</td>\n",
       "      <td>3.95</td>\n",
       "      <td>5</td>\n",
       "      <td>2</td>\n",
       "    </tr>\n",
       "    <tr>\n",
       "      <th>1</th>\n",
       "      <td>2.71</td>\n",
       "      <td>3.60</td>\n",
       "      <td>2.71</td>\n",
       "      <td>3</td>\n",
       "      <td>1</td>\n",
       "    </tr>\n",
       "    <tr>\n",
       "      <th>2</th>\n",
       "      <td>3.16</td>\n",
       "      <td>3.85</td>\n",
       "      <td>1.94</td>\n",
       "      <td>1</td>\n",
       "      <td>3</td>\n",
       "    </tr>\n",
       "    <tr>\n",
       "      <th>3</th>\n",
       "      <td>2.20</td>\n",
       "      <td>3.12</td>\n",
       "      <td>3.05</td>\n",
       "      <td>0</td>\n",
       "      <td>1</td>\n",
       "    </tr>\n",
       "    <tr>\n",
       "      <th>4</th>\n",
       "      <td>3.86</td>\n",
       "      <td>3.46</td>\n",
       "      <td>2.93</td>\n",
       "      <td>1</td>\n",
       "      <td>1</td>\n",
       "    </tr>\n",
       "  </tbody>\n",
       "</table>\n",
       "</div>"
      ],
      "text/plain": [
       "   home  draw  away  h  a\n",
       "0  2.01  3.56  3.95  5  2\n",
       "1  2.71  3.60  2.71  3  1\n",
       "2  3.16  3.85  1.94  1  3\n",
       "3  2.20  3.12  3.05  0  1\n",
       "4  3.86  3.46  2.93  1  1"
      ]
     },
     "execution_count": 17,
     "metadata": {},
     "output_type": "execute_result"
    }
   ],
   "source": [
    "df=pd.concat([odds_df,results_df],axis=1)\n",
    "df.head()"
   ]
  },
  {
   "cell_type": "code",
   "execution_count": 18,
   "id": "bcc6be9a-8acc-4b4a-940e-f88dab0bee85",
   "metadata": {},
   "outputs": [
    {
     "data": {
      "text/plain": [
       "(996, 5)"
      ]
     },
     "execution_count": 18,
     "metadata": {},
     "output_type": "execute_result"
    }
   ],
   "source": [
    "df.shape"
   ]
  },
  {
   "cell_type": "code",
   "execution_count": 19,
   "id": "422e5fff-e3da-4b73-8f07-64dcc0602134",
   "metadata": {},
   "outputs": [],
   "source": [
    "df.to_csv(write_path)"
   ]
  },
  {
   "cell_type": "code",
   "execution_count": null,
   "id": "ec82df12-6e2c-4ccb-8369-c97ed8ce038c",
   "metadata": {},
   "outputs": [],
   "source": []
  }
 ],
 "metadata": {
  "kernelspec": {
   "display_name": "Python 3 (ipykernel)",
   "language": "python",
   "name": "python3"
  },
  "language_info": {
   "codemirror_mode": {
    "name": "ipython",
    "version": 3
   },
   "file_extension": ".py",
   "mimetype": "text/x-python",
   "name": "python",
   "nbconvert_exporter": "python",
   "pygments_lexer": "ipython3",
   "version": "3.8.13"
  }
 },
 "nbformat": 4,
 "nbformat_minor": 5
}
